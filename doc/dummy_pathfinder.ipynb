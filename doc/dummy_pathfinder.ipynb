{
 "cells": [
  {
   "cell_type": "markdown",
   "id": "865180a7",
   "metadata": {},
   "source": [
    "# Implementing simple pathfinding into random actor"
   ]
  },
  {
   "cell_type": "code",
   "execution_count": null,
   "id": "075f4e04",
   "metadata": {},
   "outputs": [],
   "source": [
    "import time\n",
    "import gym\n",
    "import nle\n",
    "\n",
    "import numpy as np\n",
    "import matplotlib.pyplot as plt"
   ]
  },
  {
   "cell_type": "code",
   "execution_count": null,
   "id": "81b9e23f",
   "metadata": {},
   "outputs": [],
   "source": [
    "del gym.Wrapper.__getattr__"
   ]
  },
  {
   "cell_type": "markdown",
   "id": "e9906d62",
   "metadata": {},
   "source": [
    "A wrpper that keeps track of the action history"
   ]
  },
  {
   "cell_type": "code",
   "execution_count": null,
   "id": "d123f070",
   "metadata": {},
   "outputs": [],
   "source": [
    "from collections import deque\n",
    "\n",
    "\n",
    "class RecentHistory(gym.Wrapper):\n",
    "    \"\"\"The base interaction architecture is essentially a middleman, who passes\n",
    "    the action to the underlying env and intercepts the resulting transition\n",
    "    data. It also is allowed, but not obliged to interact with the env, while\n",
    "    intercepting the observations.\n",
    "    \"\"\"\n",
    "    def __init__(self, env, *, n_recent=0):\n",
    "        super().__init__(env)\n",
    "        self.recent = deque([], n_recent)\n",
    "    \n",
    "    def reset(self, seed=None):\n",
    "        return self.env.reset()\n",
    "\n",
    "    def step(self, action):\n",
    "        self.recent.append(action)\n",
    "        return self.env.step(action)"
   ]
  },
  {
   "cell_type": "markdown",
   "id": "330fa985",
   "metadata": {},
   "source": [
    "We hide the NLE under several layers of wrappers. From the core to the shell:\n",
    "1. `ReplayToFile` saves the seeds and the takes actions into a file for later inspection and replay.\n",
    "2. `NLEAtoN` maps ascii actions to opaque actions accpeted by the NLE.\n",
    "3. `NLEPatches` patches tty-screens, botched by the cr-lf misconfiguration of the NLE's tty term emulator and NetHacks displays (lf only).\n",
    "4. `NLEFeatures` adds extra features generated on-the-fly from the current NLE's observation. "
   ]
  },
  {
   "cell_type": "code",
   "execution_count": null,
   "id": "0ceb7ce4",
   "metadata": {},
   "outputs": [],
   "source": [
    "from nle_toolbox.wrappers.replay import ReplayToFile, Replay\n",
    "from nle_toolbox.wrappers.features import NLEPatches, NLEAtoN, NLEFeatures\n",
    "\n",
    "def gui_factory(seed=None):\n",
    "    env = NLEPatches(\n",
    "        ReplayToFile(\n",
    "            gym.make('NetHackChallenge-v0'),\n",
    "            save_on='done',\n",
    "            sticky=True,\n",
    "            folder='./replays',\n",
    "        ),\n",
    "    )\n",
    "\n",
    "    env.seed(seed)\n",
    "\n",
    "    return NLEAtoN(env)\n",
    "    "
   ]
  },
  {
   "cell_type": "markdown",
   "id": "1644a2ab",
   "metadata": {},
   "source": [
    "We start with implementing a simple command evaluator."
   ]
  },
  {
   "cell_type": "code",
   "execution_count": null,
   "id": "71997f69",
   "metadata": {},
   "outputs": [],
   "source": [
    "def gui_run(\n",
    "    env,\n",
    "    *commands\n",
    "):\n",
    "    pipe0 = deque([])\n",
    "    obs, done = env.reset(), False\n",
    "    for cmd in commands:\n",
    "        pipe0.extend(cmd)\n",
    "        while pipe0 and not done:\n",
    "            obs, rew, done, info = env.step(pipe0.popleft())\n",
    "\n",
    "        yield obs\n",
    "        if done:\n",
    "            break"
   ]
  },
  {
   "cell_type": "markdown",
   "id": "312a3da8",
   "metadata": {},
   "source": [
    "A renderer"
   ]
  },
  {
   "cell_type": "code",
   "execution_count": null,
   "id": "bf7124c4",
   "metadata": {},
   "outputs": [],
   "source": [
    "import pprint as pp\n",
    "\n",
    "from time import sleep\n",
    "from nle_toolbox.utils.env.render import render as tty_render\n",
    "\n",
    "def ipynb_render(obs, clear=True, fps=None):\n",
    "    if fps is None:\n",
    "        return True\n",
    "\n",
    "    from IPython.display import clear_output\n",
    "    if clear:\n",
    "        clear_output(wait=True)\n",
    "\n",
    "    print(tty_render(**obs))\n",
    "    if fps > 0:\n",
    "        sleep(fps)\n",
    "\n",
    "    return True"
   ]
  },
  {
   "cell_type": "markdown",
   "id": "f5746554",
   "metadata": {},
   "source": [
    "Below is a wrapper, which handles menus (unless an interaction is required) and\n",
    "fetches all consecutive messages."
   ]
  },
  {
   "cell_type": "code",
   "execution_count": null,
   "id": "9bbb5108",
   "metadata": {},
   "outputs": [],
   "source": [
    "from nle_toolbox.bot.chassis import Chassis, ActionMasker"
   ]
  },
  {
   "cell_type": "markdown",
   "id": "151e0bc0",
   "metadata": {},
   "source": [
    "Let's test it in bulk."
   ]
  },
  {
   "cell_type": "code",
   "execution_count": null,
   "id": "beb23f2e",
   "metadata": {
    "scrolled": false
   },
   "outputs": [],
   "source": [
    "# seed = None\n",
    "# seed = 12513325507677477210, 18325590921330101247  # multi\n",
    "# seed = 1251332550767747710, 18325590921330101247  # single\n",
    "# seed = 125133255076774710, 18325590921330101247  # single\n",
    "# seed = 13765371332493407478, 12246923801353953927\n",
    "# seed = 12301533412141513004, 11519511065143048485\n",
    "# seed = 1632082041122464284, 11609152793318129379\n",
    "seed = 12604736832047991440, 12469632217503715839  # an aspirant\n",
    "# seed = 5009195464289726085, 12625175316870653325\n",
    "\n",
    "with Chassis(RecentHistory(gui_factory(seed), n_recent=None), split=False) as env:\n",
    "    for obs in gui_run(\n",
    "        env,\n",
    "        ';j:',         # a paragraph about a cat\n",
    "#         'acy',         # break a wand \"of slow\" and blow up\n",
    "        '\\033Zbyyy,',  # cast a sleep ray at a newt and pick up its corpse\n",
    "    ):\n",
    "        ipynb_render(obs, clear=False)  # dump(env.env, obs[0])\n",
    "        pp.pprint(\n",
    "            (\n",
    "                env.messages,\n",
    "            )\n",
    "        )"
   ]
  },
  {
   "cell_type": "raw",
   "id": "9f5491bf",
   "metadata": {},
   "source": [
    "import pdb;pdb.pm()"
   ]
  },
  {
   "cell_type": "markdown",
   "id": "efdc0b8e",
   "metadata": {},
   "source": [
    "The factory for collecting random exploration rollouts"
   ]
  },
  {
   "cell_type": "code",
   "execution_count": null,
   "id": "b6aed90d",
   "metadata": {},
   "outputs": [],
   "source": [
    "# from nle_toolbox.utils import seeding\n",
    "\n",
    "def factory(seed=None, folder=None):\n",
    "    # get the base env and apply tty patches\n",
    "    env = NLEPatches(gym.make('NetHackChallenge-v0'))\n",
    "    ctoa = {chr(a): j for j, a in enumerate(env.unwrapped._actions)}\n",
    "\n",
    "    # setup seed runs capabilities\n",
    "    if folder is None:\n",
    "        env = Replay(env, sticky=True)\n",
    "\n",
    "    else:\n",
    "        env = ReplayToFile(env, sticky=True,\n",
    "                           folder=folder, save_on='done')\n",
    "    env.seed(seed)\n",
    "\n",
    "    # if not isinstance(seed, tuple):\n",
    "    #     seed = seeding.generate(seed)\n",
    "    # seeding.pyroot(env).set_initial_seeds(*seed, False)\n",
    "\n",
    "    # use chassis\n",
    "    env = RecentHistory(env, n_recent=32)\n",
    "    env = Chassis(env, space=ctoa[' '], split=False)\n",
    "    return ActionMasker(env)"
   ]
  },
  {
   "cell_type": "markdown",
   "id": "63591f12",
   "metadata": {},
   "source": [
    "Level and dungeon mapper"
   ]
  },
  {
   "cell_type": "code",
   "execution_count": null,
   "id": "0eb66165",
   "metadata": {},
   "outputs": [],
   "source": [
    "from nle.nethack import (\n",
    "    NLE_BL_X,\n",
    "    NLE_BL_Y,\n",
    "    NLE_BL_DNUM,\n",
    "    NLE_BL_DLEVEL,\n",
    "    # NLE_BL_DEPTH,  # derived from DNUM and DLEVEL\n",
    "    # XXX does not uniquely identify floors,\n",
    "    #  c.f. [`depth`](./nle/src/dungeon.c#L1086-1084)\n",
    "    DUNGEON_SHAPE,\n",
    "    MAX_GLYPH,\n",
    ")\n",
    "\n",
    "from nle_toolbox.utils.env.defs import \\\n",
    "    glyph_is, dt_glyph_ext, ext_glyphlut\n",
    "from nle_toolbox.utils.env.obs import npy_fold2d\n",
    "\n",
    "from nle_toolbox.bot.level import Level, DungeonMapper"
   ]
  },
  {
   "cell_type": "markdown",
   "id": "36c03a68",
   "metadata": {},
   "source": [
    "A non-illegal random action exploration."
   ]
  },
  {
   "cell_type": "code",
   "execution_count": null,
   "id": "5029be13",
   "metadata": {},
   "outputs": [],
   "source": [
    "from copy import deepcopy\n",
    "from nle_toolbox.bot.chassis import get_wrapper\n",
    "\n",
    "\n",
    "def random_explore(seed=None, n_steps=1000, *, auto=False, fps=None, copy=False):\n",
    "    \"\"\"A non-illegal random action explorer.\n",
    "    \"\"\"\n",
    "    ss_pol, ss_env = np.random.SeedSequence(seed).spawn(2)\n",
    "\n",
    "    rng, j, n_linger, pf = np.random.default_rng(ss_pol), 0, 0, None\n",
    "    with factory(seed=ss_env) as env:\n",
    "        # we need access to the Chassis for additional meta state variables\n",
    "        cha = get_wrapper(env, Chassis)\n",
    "\n",
    "        # ActionMasker caches the esacpe action id\n",
    "        ESC = get_wrapper(env, ActionMasker).escape\n",
    "        \n",
    "        # setup the dungeon mapper\n",
    "        dng = DungeonMapper()\n",
    "\n",
    "        # launch the episode\n",
    "        (obs, mask), fin = env.reset(), False\n",
    "        while (\n",
    "            ipynb_render(obs, clear=True, fps=fps)\n",
    "            and not (fin or j >= n_steps)\n",
    "        ):\n",
    "            # though nle reuses buffers, we do not deep copy them\n",
    "            #  delegating this to the downstream user instead\n",
    "            yield deepcopy(obs) if copy else obs\n",
    "\n",
    "            # default to immediately escaping from any menu or prompt\n",
    "            act = ESC\n",
    "            if not (cha.in_menu or cha.prompt):\n",
    "                dng.update(obs)\n",
    "\n",
    "                # if we're in LINGER state, pick a random non-forbidden action\n",
    "                # XXX whelp... tilde on int8 is `two's complement`, not the `logical not`\n",
    "                act = rng.choice(*np.logical_not(mask).nonzero())\n",
    "\n",
    "            (obs, mask), rew, fin, info = env.step(act)\n",
    "            j += 1\n",
    "\n",
    "            if fin and auto:\n",
    "                ipynb_render(obs, clear=True, fps=fps)\n",
    "                (obs, mask), fin = env.reset(), False"
   ]
  },
  {
   "cell_type": "markdown",
   "id": "e9f035ca",
   "metadata": {},
   "source": [
    "Get a random episode"
   ]
  },
  {
   "cell_type": "code",
   "execution_count": null,
   "id": "b393712d",
   "metadata": {},
   "outputs": [],
   "source": [
    "from inspect import getgeneratorlocals\n",
    "episode = random_explore(\n",
    "    seed=None,\n",
    "    n_steps=256,\n",
    "    auto=False,\n",
    "    copy=True,\n",
    "    fps=0.01,\n",
    ")\n",
    "\n",
    "\n",
    "glyphs = [next(episode)]\n",
    "dng = getgeneratorlocals(episode).get('dng')\n",
    "\n",
    "glyphs.extend(obs['glyphs'] for obs in episode)"
   ]
  },
  {
   "cell_type": "code",
   "execution_count": null,
   "id": "7e15950f",
   "metadata": {},
   "outputs": [],
   "source": [
    "from math import isfinite\n",
    "from collections import namedtuple\n",
    "\n",
    "from heapq import heappop, heappush\n",
    "from collections import defaultdict\n",
    "\n",
    "dir_to_ascii = {\n",
    "    # (-1, -1): 'y',\n",
    "        (-1,  0): 'k',\n",
    "            # (-1, +1): 'u',\n",
    "    ( 0, -1): 'h',\n",
    "            ( 0, +1): 'l',\n",
    "    # (+1, -1): 'j',\n",
    "        (+1,  0): 'b',\n",
    "            # (+1, +1): 'n',\n",
    "}\n",
    "\n",
    "DijNode = namedtuple('DijNode', 'p,v')\n",
    "\n",
    "# find shortest paths to all accessible tiles (determined by `cost`)\n",
    "def dij(cost, source):\n",
    "    rows, cols = cost.shape\n",
    "\n",
    "    # we leverage -ve indexing to avoid adding two borders\n",
    "    value = np.full((rows + 1, cols + 1), np.inf)\n",
    "    weight = value.copy()\n",
    "    weight[:-1, :-1] = cost\n",
    "    path = {}\n",
    "\n",
    "    # init start\n",
    "    value[source], path[source] = 0., None\n",
    "\n",
    "    # run dijkstra\n",
    "    frontier = [DijNode(source, 0.)]\n",
    "    while frontier:\n",
    "        current = heappop(frontier)\n",
    "\n",
    "        # no need to re-inspect stale heap records\n",
    "        if value[current.p] < current.v:\n",
    "            continue\n",
    "\n",
    "        r, c = current.p\n",
    "        for dr, dc in dir_to_ascii:\n",
    "            # checking for finite value ensures that we stay within bounds\n",
    "            pos = r + dr, c + dc\n",
    "\n",
    "            # consider tiles with finite +ve walk costs only\n",
    "            tile = DijNode(pos, value[r, c] + weight[pos])\n",
    "            if tile.v < value[tile.p]:\n",
    "                heappush(frontier, tile)\n",
    "                value[tile.p] = tile.v\n",
    "                path[tile.p] = r, c\n",
    "\n",
    "    return value, path"
   ]
  },
  {
   "cell_type": "code",
   "execution_count": null,
   "id": "daae8e8b",
   "metadata": {},
   "outputs": [],
   "source": [
    "from nle_toolbox.utils.env.defs import symbol, GLYPH_CMAP_OFF, glyph_group, get_group\n",
    "from nle_toolbox.utils.env.defs import glyphlut, ext_glyphlut\n",
    "\n",
    "closed_doors = get_group(symbol, GLYPH_CMAP_OFF, *[\n",
    "    'S_ndoor',\n",
    "    'S_vcdoor', 'S_hcdoor',\n",
    "    'S_vcdbridge', 'S_hcdbridge',\n",
    "])\n",
    "\n",
    "is_door = np.isin(ext_glyphlut.id.value, np.array(list(closed_doors)))\n",
    "is_object = np.isin(ext_glyphlut.id.group, np.asarray(list(glyph_group.OBJECTS)))\n",
    "is_walkable = ext_glyphlut.is_accessible | is_door | is_object"
   ]
  },
  {
   "cell_type": "code",
   "execution_count": null,
   "id": "8730f7eb",
   "metadata": {},
   "outputs": [],
   "source": [
    "from scipy.special import softmax\n",
    "\n",
    "def dstination_prob(lvl, pos):\n",
    "    r, c = pos\n",
    "    dist = np.maximum(abs(lvl.bg_tiles.rc.r - r), abs(lvl.bg_tiles.rc.c - c))\n",
    "    mask = is_walkable[lvl.bg_tiles.glyph] | is_walkable[lvl.stg_tiles.glyph]\n",
    "    mask[r, c] = False  # mask the current position\n",
    "    return softmax(np.minimum(np.where(mask, dist, -np.inf), 5))\n",
    "\n",
    "rng = np.random.default_rng()\n",
    "prob = dstination_prob(dng.level, dng.level.trace[-1])\n",
    "cost = np.where(prob > 0, 1., float('inf'))\n",
    "\n",
    "plt.imshow(prob)"
   ]
  },
  {
   "cell_type": "code",
   "execution_count": null,
   "id": "ef56c6e6",
   "metadata": {},
   "outputs": [],
   "source": [
    "plt.imshow(cost)"
   ]
  },
  {
   "cell_type": "code",
   "execution_count": null,
   "id": "8141fcd9",
   "metadata": {},
   "outputs": [],
   "source": [
    "def backup(path, dest):\n",
    "    p0 = dest\n",
    "    while True:\n",
    "        p0, p1 = path[p0], p0\n",
    "        yield p1\n",
    "        if p0 is None:\n",
    "            return\n",
    "\n",
    "#         (r0, c0), (r1, c1) = p0, p1\n",
    "#         yield directions[r1-r0, c1-c0]\n",
    "        "
   ]
  },
  {
   "cell_type": "code",
   "execution_count": null,
   "id": "f2c9b8c7",
   "metadata": {},
   "outputs": [],
   "source": [
    "value, path = dij(cost, dng.level.trace[-1])"
   ]
  },
  {
   "cell_type": "code",
   "execution_count": null,
   "id": "cfa36671",
   "metadata": {},
   "outputs": [],
   "source": [
    "val = value.copy()\n",
    "r, c = rng.choice(dng.level.bg_tiles.rc.flat, p=prob.flat)\n",
    "\n",
    "fig, ax = plt.subplots(1, 1, dpi=300)\n",
    "for i, j in backup(path, (r, c)):\n",
    "    val[i, j] = 0.\n",
    "\n",
    "val[r, c] = np.inf\n",
    "\n",
    "ax.imshow(val[:, 10:40])"
   ]
  },
  {
   "cell_type": "code",
   "execution_count": null,
   "id": "3413fbbb",
   "metadata": {},
   "outputs": [],
   "source": [
    "# ''.join(reversed())\n",
    "list()"
   ]
  },
  {
   "cell_type": "code",
   "execution_count": null,
   "id": "7ccdf31a",
   "metadata": {},
   "outputs": [],
   "source": []
  },
  {
   "cell_type": "code",
   "execution_count": null,
   "id": "08e9789a",
   "metadata": {},
   "outputs": [],
   "source": [
    "\n",
    "\n",
    "\n"
   ]
  },
  {
   "cell_type": "markdown",
   "id": "e31756f0",
   "metadata": {},
   "source": [
    "<br>"
   ]
  },
  {
   "cell_type": "raw",
   "id": "b3da9480",
   "metadata": {},
   "source": [
    "from nle_toolbox.bot.chassis import get_wrapper\n",
    "\n",
    "def pathfinder(env, obs, seed=None):\n",
    "    # pick a random destination and lay a shortest path to it\n",
    "    path = deque(path_to(uxy, dst))\n",
    "\n",
    "    while path and reachable(uxy, path):\n",
    "        obs = yield path.popleft()\n",
    "\n",
    "    state = 0\n",
    "\n",
    "\n",
    "    # if we're in the LINGER state, pick a random non-forbidden action\n",
    "    if state == 0:\n",
    "        # XXX whelp... tilde uint8 flips the sign bit and is not the logical not\n",
    "        act = rng.choice(*np.logical_not(mask).nonzero())\n",
    "\n",
    "    elif state == 1:\n",
    "        state = 2\n",
    "\n",
    "    elif state == 2:\n",
    "        if path and reachable(uxy, path):\n",
    "            act = \n",
    "\n",
    "        else:\n",
    "            # moving to the destination is complete, revert to lingering about\n",
    "            state = 0"
   ]
  },
  {
   "cell_type": "code",
   "execution_count": null,
   "id": "f813f8f3",
   "metadata": {},
   "outputs": [],
   "source": []
  },
  {
   "cell_type": "markdown",
   "id": "f9364a29",
   "metadata": {},
   "source": [
    "<br>"
   ]
  }
 ],
 "metadata": {
  "kernelspec": {
   "display_name": "Python 3 (ipykernel)",
   "language": "python",
   "name": "python3"
  },
  "language_info": {
   "codemirror_mode": {
    "name": "ipython",
    "version": 3
   },
   "file_extension": ".py",
   "mimetype": "text/x-python",
   "name": "python",
   "nbconvert_exporter": "python",
   "pygments_lexer": "ipython3",
   "version": "3.9.7"
  }
 },
 "nbformat": 4,
 "nbformat_minor": 5
}
