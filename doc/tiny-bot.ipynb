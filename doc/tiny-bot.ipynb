{
 "cells": [
  {
   "cell_type": "markdown",
   "id": "3754d465",
   "metadata": {},
   "source": [
    "# A tiny bot for NLE"
   ]
  },
  {
   "cell_type": "code",
   "execution_count": null,
   "id": "498b64c9",
   "metadata": {},
   "outputs": [],
   "source": [
    "import torch\n",
    "import numpy\n",
    "\n",
    "import matplotlib.pyplot as plt\n",
    "\n",
    "import gym\n",
    "import nle"
   ]
  },
  {
   "cell_type": "markdown",
   "id": "34b1082a",
   "metadata": {},
   "source": [
    "<br>"
   ]
  },
  {
   "cell_type": "markdown",
   "id": "416e42f9",
   "metadata": {},
   "source": [
    "## Understanding the actions"
   ]
  },
  {
   "cell_type": "markdown",
   "id": "56ec18ec",
   "metadata": {},
   "source": [
    "Collect the action info by using the `&` command."
   ]
  },
  {
   "cell_type": "code",
   "execution_count": null,
   "id": "37120a97",
   "metadata": {},
   "outputs": [],
   "source": [
    "with gym.make(\"NetHackChallenge-v0\") as env:\n",
    "    obs = env.reset()\n",
    "    env.step(92)  # &\n",
    "    env.step(19)  # \\015 ENTER\n",
    "\n",
    "    info = {}\n",
    "    for j, a in enumerate(env.unwrapped.actions):\n",
    "        obs, *_ = env.step(j)\n",
    "        info[j] = (\n",
    "            int(a),\n",
    "            a.__class__.__name__,\n",
    "            a._name_,\n",
    "            obs[\"message\"].view(\"S256\")[0].decode(\"utf8\"),\n",
    "        )\n",
    "        while b\"--More--\" in bytes(obs[\"tty_chars\"]):\n",
    "            env.step(36)  # \\033 ESC\n",
    "        env.step(92)"
   ]
  },
  {
   "cell_type": "markdown",
   "id": "c586866c",
   "metadata": {},
   "source": [
    "Read the command help from the nle's docs."
   ]
  },
  {
   "cell_type": "code",
   "execution_count": null,
   "id": "72a10958",
   "metadata": {},
   "outputs": [],
   "source": [
    "cmdhelp = {}\n",
    "with open(\"/Users/ivannazarov/Github/repos_with_rl/nle/dat/cmdhelp\", \"tr\") as fin:\n",
    "    for line in fin:\n",
    "        key, tab, val = line.strip().partition(\"\\t\")\n",
    "        if not tab:\n",
    "            continue\n",
    "\n",
    "        cmdhelp[key] = val"
   ]
  },
  {
   "cell_type": "markdown",
   "id": "c057519d",
   "metadata": {},
   "source": [
    "The following actions will wither be emulated or totally unused by the agent."
   ]
  },
  {
   "cell_type": "code",
   "execution_count": null,
   "id": "fc1a61c6",
   "metadata": {},
   "outputs": [],
   "source": [
    "unused_actions = {\n",
    "    # long actions skip too much game ticks!\n",
    "    8,  # CompassDirectionLonger.N      75\n",
    "    9,  # CompassDirectionLonger.E      76\n",
    "    10,  # CompassDirectionLonger.S      74\n",
    "    11,  # CompassDirectionLonger.W      72\n",
    "    12,  # CompassDirectionLonger.NE     85\n",
    "    13,  # CompassDirectionLonger.SE     78\n",
    "    14,  # CompassDirectionLonger.SW     66\n",
    "    15,  # CompassDirectionLonger.NW     89\n",
    "    # list of extendend commands\n",
    "    21,  # Command.EXTLIST               191\n",
    "    # adjust inventory letters\n",
    "    22,  # Command.ADJUST                225\n",
    "    # annotate a location on the map\n",
    "    23,  # Command.ANNOTATE              193\n",
    "    27,  # Command.CALL                  67\n",
    "    # inspect char's attributes\n",
    "    25,  # Command.ATTRIBUTES            24\n",
    "    76,  # Command.SEEALL                42\n",
    "    59,  # Command.OVERVIEW              15\n",
    "    26,  # Command.AUTOPICKUP            64\n",
    "    31,  # Command.CONDUCT               195\n",
    "    34,  # Command.DROPTYPE              68\n",
    "    37,  # Command.ENGRAVE               69\n",
    "    42,  # Command.GLANCE                59\n",
    "    81,  # Command.TAKEOFFALL            65\n",
    "    # inventory is given to us\n",
    "    44,  # Command.INVENTORY             105\n",
    "    45,  # Command.INVENTTYPE            73\n",
    "    # we don't care about the logs\n",
    "    49,  # Command.KNOWN                 92\n",
    "    50,  # Command.KNOWNCLASS            96\n",
    "    # look us emulated through inventory probing\n",
    "    51,  # Command.LOOK                  58\n",
    "    # some unclear navigation actions\n",
    "    54,  # Command.MOVE                  109\n",
    "    55,  # Command.MOVEFAR               77\n",
    "    72,  # Command.RUSH                  103\n",
    "    73,  # Command.RUSH2                 71\n",
    "    85,  # Command.TRAVEL                95\n",
    "    # misc, developer\n",
    "    89,  # Command.VERSION               246\n",
    "    90,  # Command.VERSIONSHORT          118\n",
    "    43,  # Command.HISTORY               86\n",
    "    74,  # Command.SAVE                  83\n",
    "    65,  # Command.QUIT                  241\n",
    "    68,  # Command.REDRAW                18\n",
    "    58,  # Command.OPTIONS               79\n",
    "    # command help\n",
    "    92,  # Command.WHATDOES              38\n",
    "    93,  # Command.WHATIS                47\n",
    "    # unknown\n",
    "    100,  # TextCharacters.APOS           39\n",
    "    99,  # TextCharacters.SPACE          20\n",
    "    98,  # TextCharacters.MINUS          45\n",
    "    102,  # TextCharacters.NUM_0          48\n",
    "    103,  # TextCharacters.NUM_1          49\n",
    "    104,  # TextCharacters.NUM_2          50\n",
    "    105,  # TextCharacters.NUM_3          51\n",
    "    106,  # TextCharacters.NUM_4          52\n",
    "    107,  # TextCharacters.NUM_5          53\n",
    "    108,  # TextCharacters.NUM_6          54\n",
    "    109,  # TextCharacters.NUM_7          55\n",
    "    110,  # TextCharacters.NUM_8          56\n",
    "    111,  # TextCharacters.NUM_9          57\n",
    "    # can read the vloume of the purse from `blstats`.gold\n",
    "    112,  # TextCharacters.DOLLAR         36\n",
    "    # these might possibly be useful\n",
    "    47,  # Command.JUMP                  234\n",
    "    70,  # Command.RIDE                  210  // mount or dismount a saddled steed.\n",
    "    71,  # Command.RUB                   242  // Rub a lamp or a touchstone\n",
    "    53,  # Command.MONSTER               237  // When polymorphed, use a monster's special ability\n",
    "    60,  # Command.PAY                   112  // Pay your shopping bill\n",
    "}"
   ]
  },
  {
   "cell_type": "markdown",
   "id": "7ad3819f",
   "metadata": {},
   "source": [
    "A neat table with oct, hex and descriptions"
   ]
  },
  {
   "cell_type": "code",
   "execution_count": null,
   "id": "461f7f0b",
   "metadata": {},
   "outputs": [],
   "source": [
    "for j, (a, c, f, m) in info.items():\n",
    "    if j in unused_actions:\n",
    "        continue\n",
    "    if m.startswith(\"No such command\"):\n",
    "        m = cmdhelp.get(chr(a))\n",
    "    print(\n",
    "        f\"{j:>4d}  {c+'.'+f:28s}  {a:>03o}   {a:>02X}  {a if a > 32 else 46:>2c}  {m}\"\n",
    "    )"
   ]
  },
  {
   "cell_type": "markdown",
   "id": "5ef54f72",
   "metadata": {},
   "source": [
    "<br>"
   ]
  },
  {
   "cell_type": "markdown",
   "id": "aecbe303",
   "metadata": {},
   "source": [
    "Import level patching and options from `minihack`"
   ]
  },
  {
   "cell_type": "code",
   "execution_count": null,
   "id": "01d9457b",
   "metadata": {},
   "outputs": [],
   "source": [
    "import minihack\n",
    "import minihack.envs.fightcorridor\n",
    "\n",
    "from minihack.base import MiniHack, MH_NETHACKOPTIONS\n",
    "\n",
    "from minihack.level_generator import LevelGenerator\n",
    "\n",
    "lvl_gen = LevelGenerator(\n",
    "    map=\"\"\"\n",
    "-----       ----------------------\n",
    "|....#######.....................|\n",
    "-----       ----------------------\n",
    "\"\"\",\n",
    "    lit=True,\n",
    ")\n",
    "lvl_gen.set_start_rect((1, 1), (3, 1))\n",
    "# lvl_gen.add_monster(name=\"giant rat\", place=(30, 1))\n",
    "# lvl_gen.add_monster(name=\"giant rat\", place=(29, 1))\n",
    "lvl_gen.add_goal_pos((32, 1))"
   ]
  },
  {
   "cell_type": "markdown",
   "id": "42c84d6e",
   "metadata": {},
   "source": [
    "<br>"
   ]
  },
  {
   "cell_type": "markdown",
   "id": "ceeea280",
   "metadata": {},
   "source": [
    "Some observation preprocessing"
   ]
  },
  {
   "cell_type": "code",
   "execution_count": null,
   "id": "602e3893",
   "metadata": {},
   "outputs": [],
   "source": [
    "from nle_toolbox.utils.env.defs import BLStats\n",
    "\n",
    "\n",
    "def uint8_to_str(\n",
    "    as_bytes=False, /, *, tty_chars, chars, message, inv_letters, inv_strs, **remaining\n",
    "):\n",
    "    \"\"\"Preprocess all `uint8` arrays to proper `str`, preserving the leading dims.\"\"\"\n",
    "    # `tty_chars` is `... x 24 x 80` fixed width string\n",
    "    tty_chars = tty_chars.view(\"S80\").squeeze(-1)\n",
    "\n",
    "    # `message` is `... x 256` zero-terminated string\n",
    "    message = message.view(\"S256\").squeeze(-1)\n",
    "\n",
    "    # `chars` is `... x 21 x 79` fixed width string (excl. )\n",
    "    chars = chars.view(\"S79\").squeeze(-1)\n",
    "\n",
    "    # `inv_letters` is `... x 55` list of single chars (at most 55 items)\n",
    "    inv_letters = inv_letters.view(\"c\")\n",
    "\n",
    "    # `inv_strs` is `... x 55 x 80` list of zero-terminated strings\n",
    "    #  (at most 80 chars per item and at most 55 items)\n",
    "    inv_strs = inv_strs.view(\"S80\").squeeze(-1)\n",
    "\n",
    "    # rebuild the kwargs, casting `bytes` to `str` (UCS4 encoding\n",
    "    #  gives x4 mem blowup!).\n",
    "    if as_bytes:\n",
    "        # XXX a tidier `**locals()` also adds unwanted keys, such\n",
    "        #  as `remaining` and `as_bytes` :(\n",
    "        return dict(\n",
    "            tty_chars=tty_chars,\n",
    "            message=message,\n",
    "            chars=chars,\n",
    "            inv_letters=inv_letters,\n",
    "            inv_strs=inv_strs,\n",
    "            **remaining,\n",
    "        )\n",
    "\n",
    "    return dict(\n",
    "        tty_chars=tty_chars.astype(str),\n",
    "        message=message.astype(str),\n",
    "        chars=chars.astype(str),\n",
    "        inv_letters=inv_letters.astype(str),\n",
    "        inv_strs=inv_strs.astype(str),\n",
    "        **remaining,\n",
    "    )"
   ]
  },
  {
   "cell_type": "markdown",
   "id": "4e6323d2",
   "metadata": {},
   "source": [
    "A renderer"
   ]
  },
  {
   "cell_type": "code",
   "execution_count": null,
   "id": "95058280",
   "metadata": {},
   "outputs": [],
   "source": [
    "from io import StringIO\n",
    "from IPython.display import clear_output\n",
    "from contextlib import redirect_stdout\n",
    "\n",
    "\n",
    "def render(env, obs):\n",
    "    blstats = BLStats(*obs[\"blstats\"])\n",
    "\n",
    "    with redirect_stdout(StringIO()) as f:\n",
    "        env.render(\"human\")\n",
    "\n",
    "    screen = f.getvalue()\n",
    "    screen += \"\\n\" + (b\"\".join(obs[\"inv_letters\"].view(\"c\"))).decode()\n",
    "\n",
    "    screen += f\"\\ntime: {blstats.time:04d}\"\n",
    "    screen += \"\\n\" + str(obs[\"message\"].view(\"S256\")[0])\n",
    "\n",
    "    screen += \"\\n\" + str(\n",
    "        obs[\"glyphs\"][\n",
    "            blstats.y - 2 : blstats.y + 3,\n",
    "            blstats.x - 2 : blstats.x + 3,\n",
    "        ]\n",
    "    )\n",
    "\n",
    "    clear_output(wait=False)\n",
    "    print(screen)\n",
    "    return True"
   ]
  },
  {
   "cell_type": "markdown",
   "id": "a3c6d08a",
   "metadata": {},
   "source": [
    "Actors"
   ]
  },
  {
   "cell_type": "code",
   "execution_count": null,
   "id": "b483c16b",
   "metadata": {},
   "outputs": [],
   "source": [
    "class HumanActor:\n",
    "    def override(self, obs):\n",
    "        return False\n",
    "\n",
    "    # human control\n",
    "    def reset(self, obs):\n",
    "        pass\n",
    "\n",
    "    def step(self, obs):\n",
    "        input = bytes(__builtins__.input(\"> \"), \"utf8\")\n",
    "        yield from map(ord, input.decode(\"unicode-escape\"))"
   ]
  },
  {
   "cell_type": "markdown",
   "id": "6ed68e6d",
   "metadata": {},
   "source": [
    "Gather actions"
   ]
  },
  {
   "cell_type": "code",
   "execution_count": null,
   "id": "e1b0476f",
   "metadata": {},
   "outputs": [],
   "source": [
    "import re\n",
    "\n",
    "from collections import deque\n",
    "from nle.nethack.actions import Command, MiscAction\n",
    "\n",
    "\n",
    "class Skeleton:\n",
    "    re_ynq = re.compile(rb\".*\\?\\s+\\[[ynaq\\d]{2,}\\]\", re.I)  # detect YN questions\n",
    "\n",
    "    def __init__(self, brain, *, auto_more=True, auto_yesman=False):\n",
    "        self.brain, self.queue = brain, deque()\n",
    "        self.auto_more, self.auto_yesman = auto_more, auto_yesman\n",
    "\n",
    "    def reset(self, obs):\n",
    "        self.brain.reset(obs)\n",
    "        self.queue.clear()\n",
    "\n",
    "    def step(self, obs):\n",
    "        # 1. automatic gui-related actions\n",
    "        # skip partial info messages in the tty (`--More--`)\n",
    "        # XXX `ESC` skips all messages, `ENTER` goes through them one-by-one\n",
    "        if self.auto_more and b\"--More--\" in bytes(obs[\"tty_chars\"]):\n",
    "            return Command.ESC  # MiscAction.MORE\n",
    "\n",
    "        # 1.5 eternal internal `yes-man`: agree to every action we take\n",
    "        if self.auto_yesman and self.re_ynq.match(bytes(obs[\"message\"])):\n",
    "            return ord(\"y\")\n",
    "\n",
    "        # 2. open/closed loop control. Prompt only if we are out of\n",
    "        #  scheduled actions.\n",
    "        if self.brain.override(obs):\n",
    "            self.queue.clear()\n",
    "\n",
    "        if not self.queue:\n",
    "            # closed loop control: the brain tells us what to do next\n",
    "            self.queue.extend(self.brain.step(obs))\n",
    "\n",
    "        # open loop policy: execute pre-scheduled actions\n",
    "        if self.queue:\n",
    "            return self.queue.popleft()\n",
    "\n",
    "        # just wait\n",
    "        return ord(\".\")"
   ]
  },
  {
   "cell_type": "markdown",
   "id": "5960a0ab",
   "metadata": {},
   "source": [
    "Seed"
   ]
  },
  {
   "cell_type": "code",
   "execution_count": null,
   "id": "b7efede0",
   "metadata": {},
   "outputs": [],
   "source": [
    "from nle_toolbox.utils.replay import Replay\n",
    "\n",
    "env = Replay(gym.make(\"NetHackChallenge-v0\"))  # , options=MH_NETHACKOPTIONS))\n",
    "# MiniHack._patch_nhdat(env.unwrapped, lvl_gen.get_des())\n",
    "env.seed(123)"
   ]
  },
  {
   "cell_type": "markdown",
   "id": "cf87202b",
   "metadata": {},
   "source": [
    "play\n",
    "* `#pray\\x0dy` -- pray to a diety and then die\n",
    "* `#quit\\015y` -- quit the game\n",
    "* `DA\\x0djlkh,,\\x0d` -- drop all, walk a circle, pick up all"
   ]
  },
  {
   "cell_type": "code",
   "execution_count": null,
   "id": "fadf58e4",
   "metadata": {},
   "outputs": [],
   "source": [
    "bot = Skeleton(brain=HumanActor())\n",
    "\n",
    "obs, rew, fin, info = env.reset(), 0.0, False, None\n",
    "bot.reset(obs)\n",
    "\n",
    "# base.py#L382 maps gym action numbers to chars\n",
    "ctoa = {a: j for j, a in enumerate(env.unwrapped.actions)}\n",
    "while render(env, obs) and not fin:\n",
    "    try:\n",
    "        obs, rew, fin, info = env.step(ctoa[bot.step(obs)])\n",
    "    except KeyError:\n",
    "        break"
   ]
  },
  {
   "cell_type": "code",
   "execution_count": null,
   "id": "f79b9ed1",
   "metadata": {},
   "outputs": [],
   "source": [
    "assert False"
   ]
  },
  {
   "cell_type": "markdown",
   "id": "123cf944",
   "metadata": {},
   "source": [
    "<br>"
   ]
  },
  {
   "cell_type": "markdown",
   "id": "f7e9d571",
   "metadata": {},
   "source": [
    "### A dangeorus freezing combination\n",
    "\n",
    "```python\n",
    "# well, this is awkward...\n",
    "env.reset()\n",
    "env.step(42)\n",
    "env.step(51)\n",
    "```"
   ]
  },
  {
   "cell_type": "markdown",
   "id": "4f111038",
   "metadata": {},
   "source": [
    "<br>"
   ]
  },
  {
   "cell_type": "markdown",
   "id": "3ab8d7eb",
   "metadata": {},
   "source": [
    "# Trunk"
   ]
  },
  {
   "cell_type": "raw",
   "id": "af3322cf",
   "metadata": {},
   "source": [
    "from collections import deque\n",
    "from nle.env.base import NLE\n",
    "from nle.nethack.actions import ACTIONS\n",
    "\n",
    "\n",
    "class Spine:\n",
    "    def __init__(self, env):\n",
    "        # create kbd to int mappings\n",
    "        assert isinstance(env, NLE)\n",
    "\n",
    "        # base.py#L382 maps gym action numbers to chars\n",
    "        self.ctoa = {a: j for j, a in enumerate(env._actions)}\n",
    "    \n",
    "        # reset the state\n",
    "        self.reset()\n",
    "\n",
    "    def reset(self):\n",
    "        self.state = 0\n",
    "        self.queue.clear()\n",
    "\n",
    "    def check(self, obs):\n",
    "        return True\n",
    "\n",
    "    def react(self, obs):\n",
    "        # open loop policy: execute scheduled actions\n",
    "        if self.queue and self.check(obs):\n",
    "            return self.queue.popleft()\n",
    "\n",
    "        obs = uint8_to_str(False, **obs)\n",
    "#         for fn in auto_gobble_more, auto_no_escape,:\n",
    "#             action = fn(obs)\n",
    "#             if action >= 0:\n",
    "#                 return action\n",
    "\n",
    "        return -1\n",
    "\n",
    "class Human(Spine):\n",
    "    def react(self, obs):\n",
    "        action = super().react(obs)\n",
    "        if action < 0:\n",
    "            tmp = __builtins__.input('> ')\n",
    "            if len(tmp) > 1:\n",
    "                if tmp[0] == '#':\n",
    "                    self.queue.extend(tmp)\n",
    "\n",
    "                else:\n",
    "                    action = int(tmp, 10)\n",
    "            else:\n",
    "                action = ord(tmp)\n",
    "\n",
    "        return self.ctoa[action]"
   ]
  },
  {
   "cell_type": "raw",
   "id": "319174a9",
   "metadata": {},
   "source": [
    "from collections import deque\n",
    "from nle.env.base import NLE\n",
    "from nle.nethack.actions import ACTIONS\n",
    "\n",
    "\n",
    "class Spine:\n",
    "    def __init__(self):\n",
    "        self.actions, self.priority = {}, ['gui',]\n",
    "        self.queue, self.state = deque(), 0\n",
    "\n",
    "    def reset(self, obs):\n",
    "        self.state = 0\n",
    "        self.queue.clear()\n",
    "\n",
    "    def register(self, *actions, kind='gui'):\n",
    "        for action in actions:\n",
    "            assert isinstance(action, BaseAction)\n",
    "            self.actions.setdefault(kind, []).append(action)\n",
    "        \n",
    "        return self\n",
    "\n",
    "    def react(self, obs):\n",
    "        obs = uint8_to_str(False, **obs)\n",
    "        \n",
    "        # 1. execute automatic actions related to gui\n",
    "        for kind in self.priority:\n",
    "            for action in self.actions.get(kind, []):\n",
    "                act = action.react(obs)\n",
    "                if act is not None:\n",
    "                    return act\n",
    "\n",
    "        if self.queue:\n",
    "            return self.queue.popleft()\n",
    "\n",
    "class Human(Spine):\n",
    "    def abort(self, obs):\n",
    "        return False\n",
    "\n",
    "    def react(self, obs):\n",
    "        action = super().react(obs)\n",
    "        if action is not None:\n",
    "            return action\n",
    "\n",
    "        # Check if we're following an open loop policy\n",
    "        if not self.queue or self.abort(obs):\n",
    "            # human control\n",
    "            tmp = bytes(__builtins__.input('> '), 'utf8').decode('unicode-escape')\n",
    "            self.queue.extend(map(ord, tmp))\n",
    "\n",
    "        # execute pre-scheduled actions (open loop policy)\n",
    "        return self.queue.popleft()\n"
   ]
  },
  {
   "cell_type": "raw",
   "id": "e7438655",
   "metadata": {},
   "source": [
    "from nle.nethack.actions import Command, MiscAction\n",
    "\n",
    "class BaseAction:\n",
    "    def can(self, obs):\n",
    "        return True\n",
    "\n",
    "    def do(self, obs):\n",
    "        raise NotImplementedError\n",
    "\n",
    "    def react(self, obs):\n",
    "        if self.can(obs):\n",
    "            yield from self.do(obs)\n",
    "\n",
    "class BaseENTERAction(BaseAction):\n",
    "    def do(self, obs):\n",
    "        yield MiscAction.MORE\n",
    "\n",
    "class BaseESCAction(BaseAction):\n",
    "    def do(self, obs):\n",
    "        yield Command.ESC\n",
    "\n",
    "class GUI_handle_escape(BaseESCAction):\n",
    "    def can(self, obs):\n",
    "        return b'there will be no return!' in bytes(obs['tty_chars'])"
   ]
  }
 ],
 "metadata": {
  "kernelspec": {
   "display_name": "Python 3 (ipykernel)",
   "language": "python",
   "name": "python3"
  },
  "language_info": {
   "codemirror_mode": {
    "name": "ipython",
    "version": 3
   },
   "file_extension": ".py",
   "mimetype": "text/x-python",
   "name": "python",
   "nbconvert_exporter": "python",
   "pygments_lexer": "ipython3",
   "version": "3.9.7"
  }
 },
 "nbformat": 4,
 "nbformat_minor": 5
}
