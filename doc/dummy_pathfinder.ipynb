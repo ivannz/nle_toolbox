{
 "cells": [
  {
   "cell_type": "markdown",
   "id": "865180a7",
   "metadata": {},
   "source": [
    "# Implementing simple pathfinding into random actor"
   ]
  },
  {
   "cell_type": "code",
   "execution_count": null,
   "id": "075f4e04",
   "metadata": {},
   "outputs": [],
   "source": [
    "import time\n",
    "import gym\n",
    "import nle\n",
    "\n",
    "import numpy as np\n",
    "import matplotlib.pyplot as plt"
   ]
  },
  {
   "cell_type": "code",
   "execution_count": null,
   "id": "81b9e23f",
   "metadata": {},
   "outputs": [],
   "source": [
    "del gym.Wrapper.__getattr__"
   ]
  },
  {
   "cell_type": "markdown",
   "id": "e9906d62",
   "metadata": {},
   "source": [
    "A wrpper that keeps track of the action history"
   ]
  },
  {
   "cell_type": "code",
   "execution_count": null,
   "id": "d123f070",
   "metadata": {},
   "outputs": [],
   "source": [
    "from collections import deque\n",
    "\n",
    "\n",
    "class RecentHistory(gym.Wrapper):\n",
    "    \"\"\"The base interaction architecture is essentially a middleman, who passes\n",
    "    the action to the underlying env and intercepts the resulting transition\n",
    "    data. It also is allowed, but not obliged to interact with the env, while\n",
    "    intercepting the observations.\n",
    "    \"\"\"\n",
    "    def __init__(self, env, *, n_recent=0):\n",
    "        super().__init__(env)\n",
    "        self.recent = deque([], n_recent)\n",
    "    \n",
    "    def reset(self, seed=None):\n",
    "        return self.env.reset()\n",
    "\n",
    "    def step(self, action):\n",
    "        self.recent.append(action)\n",
    "        return self.env.step(action)"
   ]
  },
  {
   "cell_type": "markdown",
   "id": "330fa985",
   "metadata": {},
   "source": [
    "We hide the NLE under several layers of wrappers. From the core to the shell:\n",
    "1. `ReplayToFile` saves the seeds and the takes actions into a file for later inspection and replay.\n",
    "2. `NLEAtoN` maps ascii actions to opaque actions accpeted by the NLE.\n",
    "3. `NLEPatches` patches tty-screens, botched by the cr-lf misconfiguration of the NLE's tty term emulator and NetHacks displays (lf only).\n",
    "4. `NLEFeatures` adds extra features generated on-the-fly from the current NLE's observation. "
   ]
  },
  {
   "cell_type": "code",
   "execution_count": null,
   "id": "0ceb7ce4",
   "metadata": {},
   "outputs": [],
   "source": [
    "from nle_toolbox.utils.replay import ReplayToFile, Replay\n",
    "from nle_toolbox.utils.env.wrappers import NLEPatches, NLEAtoN, NLEFeatures\n",
    "\n",
    "def gui_factory(seed=None):\n",
    "    env = NLEPatches(\n",
    "        ReplayToFile(\n",
    "            gym.make('NetHackChallenge-v0'),\n",
    "            save_on='done',\n",
    "            sticky=True,\n",
    "            folder='./replays',\n",
    "        ),\n",
    "    )\n",
    "\n",
    "    env.seed(seed)\n",
    "\n",
    "    return NLEAtoN(env)\n",
    "    "
   ]
  },
  {
   "cell_type": "markdown",
   "id": "1644a2ab",
   "metadata": {},
   "source": [
    "We start with implementing a simple command evaluator."
   ]
  },
  {
   "cell_type": "code",
   "execution_count": null,
   "id": "71997f69",
   "metadata": {},
   "outputs": [],
   "source": [
    "def gui_run(\n",
    "    env,\n",
    "    *commands\n",
    "):\n",
    "    pipe0 = deque([])\n",
    "    obs, done = env.reset(), False\n",
    "    for cmd in commands:\n",
    "        pipe0.extend(cmd)\n",
    "        while pipe0 and not done:\n",
    "            obs, rew, done, info = env.step(pipe0.popleft())\n",
    "\n",
    "        yield obs\n",
    "        if done:\n",
    "            break"
   ]
  },
  {
   "cell_type": "markdown",
   "id": "274cd015",
   "metadata": {},
   "source": [
    "A simple proc to overlay a play atop the tty characters."
   ]
  },
  {
   "cell_type": "code",
   "execution_count": null,
   "id": "23d29e37",
   "metadata": {},
   "outputs": [],
   "source": [
    "def overlay_plan(\n",
    "    plan,\n",
    "    *,\n",
    "    tty_chars,\n",
    "    tty_colors,\n",
    "    **ignore,\n",
    "):\n",
    "#     import pdb ; pdb.set_trace()\n",
    "    # draw magenta X-s at the specified coords\n",
    "    for r, c in plan:\n",
    "        tty_colors[r+1, c] = 128 + 13  # 0x8D -- bright magenta\n",
    "        tty_chars[r+1, c] = 88  # ord('X')"
   ]
  },
  {
   "cell_type": "markdown",
   "id": "312a3da8",
   "metadata": {},
   "source": [
    "A renderer"
   ]
  },
  {
   "cell_type": "code",
   "execution_count": null,
   "id": "bf7124c4",
   "metadata": {},
   "outputs": [],
   "source": [
    "import pprint as pp\n",
    "\n",
    "from time import sleep\n",
    "from nle_toolbox.utils.env.render import render as tty_render\n",
    "\n",
    "def ipynb_render(obs, clear=True, fps=None, plan=None):\n",
    "    if fps is None:\n",
    "        return True\n",
    "\n",
    "    from IPython.display import clear_output\n",
    "    if clear:\n",
    "        clear_output(wait=True)\n",
    "\n",
    "    if plan:\n",
    "        overlay_plan(plan, **obs)\n",
    "\n",
    "    print(tty_render(**obs))\n",
    "\n",
    "    if fps > 0:\n",
    "        sleep(fps)\n",
    "\n",
    "    return True"
   ]
  },
  {
   "cell_type": "markdown",
   "id": "f5746554",
   "metadata": {},
   "source": [
    "Below is a wrapper, which handles menus (unless an interaction is required) and\n",
    "fetches all consecutive messages."
   ]
  },
  {
   "cell_type": "code",
   "execution_count": null,
   "id": "9bbb5108",
   "metadata": {},
   "outputs": [],
   "source": [
    "from nle_toolbox.bot.chassis import Chassis, ActionMasker"
   ]
  },
  {
   "cell_type": "markdown",
   "id": "151e0bc0",
   "metadata": {},
   "source": [
    "Let's test it in bulk."
   ]
  },
  {
   "cell_type": "code",
   "execution_count": null,
   "id": "beb23f2e",
   "metadata": {
    "scrolled": false
   },
   "outputs": [],
   "source": [
    "# seed = None\n",
    "# seed = 12513325507677477210, 18325590921330101247  # multi\n",
    "# seed = 1251332550767747710, 18325590921330101247  # single\n",
    "# seed = 125133255076774710, 18325590921330101247  # single\n",
    "# seed = 13765371332493407478, 12246923801353953927\n",
    "# seed = 12301533412141513004, 11519511065143048485\n",
    "# seed = 1632082041122464284, 11609152793318129379\n",
    "seed = 12604736832047991440, 12469632217503715839  # an aspirant\n",
    "# seed = 5009195464289726085, 12625175316870653325\n",
    "# seed = 8962210393456991721, 8431607288866012881\n",
    "\n",
    "with Chassis(RecentHistory(gui_factory(seed), n_recent=None), split=False) as env:\n",
    "    for obs in gui_run(\n",
    "        env,\n",
    "        ';j:',         # a paragraph about a cat\n",
    "        'acy',         # break a wand \"of slow\" and blow up\n",
    "        '\\033Zbyyy,',  # cast a sleep ray at a newt and pick up its corpse\n",
    "#         # investigating illegal messages\n",
    "#         # chassis does not fetch messages in GLANCE and JUMP actions, because\n",
    "#         #  the NLE does not report them, and chassis does not check the `tty_chars` topl.\n",
    "#         '\\033bbhh', '\\033;', 'u', 'll', '\\033ê', 'u',\n",
    "    ):\n",
    "        pp.pprint(\n",
    "            (\n",
    "                env.messages, env.prompt, obs['tty_chars'][0].view('S80')[0].strip(),\n",
    "                env.in_getlin, env.in_menu, env.in_yn_function, env.xwaitingforspace,\n",
    "            )\n",
    "        )\n",
    "\n",
    "        ipynb_render(obs, clear=False, fps=0.01)  # dump(env.env, obs[0])"
   ]
  },
  {
   "cell_type": "raw",
   "id": "9f5491bf",
   "metadata": {},
   "source": [
    "import pdb; pdb.pm()"
   ]
  },
  {
   "cell_type": "markdown",
   "id": "54a5837b",
   "metadata": {},
   "source": [
    "<br>"
   ]
  },
  {
   "cell_type": "markdown",
   "id": "ff75f63a",
   "metadata": {},
   "source": [
    "     y  k  u  \n",
    "      \\ | /   \n",
    "    h - . - l \n",
    "      / | \\   \n",
    "     b  j  n  "
   ]
  },
  {
   "cell_type": "markdown",
   "id": "bbebead5",
   "metadata": {},
   "source": [
    "Dijkstra algorithm for shortest paths on +ve weighted graphs (here the graph is the regular mesh)."
   ]
  },
  {
   "cell_type": "code",
   "execution_count": null,
   "id": "7e15950f",
   "metadata": {},
   "outputs": [],
   "source": [
    "from math import isfinite\n",
    "from collections import namedtuple\n",
    "\n",
    "from heapq import heappop, heappush\n",
    "from collections import defaultdict\n",
    "\n",
    "dir_to_ascii = {\n",
    "    # diagonal\n",
    "    (-1, -1): 'y', (-1, +1): 'u',\n",
    "    (+1, -1): 'b', (+1, +1): 'n',\n",
    "\n",
    "    # parallel\n",
    "    (-1,  0): 'k', (+1,  0): 'j',\n",
    "    ( 0, -1): 'h', ( 0, +1): 'l',\n",
    "}\n",
    "\n",
    "DijNode = namedtuple('DijNode', 'v,p')\n",
    "\n",
    "# find shortest paths to all accessible tiles (determined by `cost`)\n",
    "def dij(cost, /, source):\n",
    "    rows, cols = cost.shape\n",
    "\n",
    "    # we leverage -ve indexing to avoid adding two borders\n",
    "    value = np.full((rows + 1, cols + 1), np.inf)\n",
    "    weight = value.copy()\n",
    "    weight[:-1, :-1] = cost\n",
    "    paths = np.full((*value.shape, 2), -1, dtype=int)\n",
    "\n",
    "    # init start\n",
    "    value[source] = 0.\n",
    "\n",
    "    # run dijkstra\n",
    "    frontier = [DijNode(0., source)]\n",
    "    while frontier:\n",
    "        current = heappop(frontier)\n",
    "\n",
    "        # no need to re-inspect stale heap records\n",
    "        v = value[current.p]\n",
    "        if v < current.v:\n",
    "            continue\n",
    "\n",
    "        r, c = current.p\n",
    "        for dr, dc in dir_to_ascii:\n",
    "            # checking for finite value ensures that we stay within bounds\n",
    "            pos = r + dr, c + dc\n",
    "\n",
    "            # consider tiles with finite +ve walk costs only\n",
    "            tile = DijNode(v + weight[pos], pos)\n",
    "            if tile.v < value[tile.p]:\n",
    "                heappush(frontier, tile)\n",
    "                value[tile.p] = tile.v\n",
    "                paths[tile.p] = r, c\n",
    "\n",
    "    return value[:-1, :-1], paths[:-1, :-1]"
   ]
  },
  {
   "cell_type": "markdown",
   "id": "c15da199",
   "metadata": {},
   "source": [
    "Backuping through the optimal value surface to recover the shortest path to the specified destination."
   ]
  },
  {
   "cell_type": "code",
   "execution_count": null,
   "id": "65710415",
   "metadata": {},
   "outputs": [],
   "source": [
    "def backup(paths, destination):\n",
    "    r, c = destination\n",
    "    while r >= 0 and c >= 0:\n",
    "        yield r, c\n",
    "        r, c = paths[r, c]"
   ]
  },
  {
   "cell_type": "markdown",
   "id": "efdc0b8e",
   "metadata": {},
   "source": [
    "The factory for collecting random exploration rollouts"
   ]
  },
  {
   "cell_type": "code",
   "execution_count": null,
   "id": "b6aed90d",
   "metadata": {},
   "outputs": [],
   "source": [
    "# from nle_toolbox.utils import seeding\n",
    "from nle_toolbox.bot.chassis import get_wrapper\n",
    "\n",
    "def factory(seed=None, folder=None):\n",
    "    # get the base env and apply tty patches\n",
    "    env = NLEPatches(gym.make('NetHackChallenge-v0'))\n",
    "    ctoa = {chr(a): j for j, a in enumerate(env.unwrapped._actions)}\n",
    "\n",
    "    # setup seed runs capabilities\n",
    "    if folder is None:\n",
    "        env = Replay(env, sticky=True)\n",
    "\n",
    "    else:\n",
    "        env = ReplayToFile(env, sticky=True, folder=folder, save_on='done')\n",
    "\n",
    "    env.seed(seed)\n",
    "\n",
    "    # if not isinstance(seed, tuple):\n",
    "    #     seed = seeding.generate(seed)\n",
    "    # seeding.pyroot(env).set_initial_seeds(*seed, False)\n",
    "\n",
    "    # use chassis\n",
    "    env = RecentHistory(env, n_recent=32)\n",
    "    env = Chassis(env, space=ctoa[' '], split=False)\n",
    "    return ActionMasker(env)"
   ]
  },
  {
   "cell_type": "markdown",
   "id": "63591f12",
   "metadata": {},
   "source": [
    "Level and dungeon mapper"
   ]
  },
  {
   "cell_type": "code",
   "execution_count": null,
   "id": "0eb66165",
   "metadata": {},
   "outputs": [],
   "source": [
    "from nle.nethack import (\n",
    "    NLE_BL_X,\n",
    "    NLE_BL_Y,\n",
    "    NLE_BL_DNUM,\n",
    "    NLE_BL_DLEVEL,\n",
    "    # NLE_BL_DEPTH,  # derived from DNUM and DLEVEL\n",
    "    # XXX does not uniquely identify floors,\n",
    "    #  c.f. [`depth`](./nle/src/dungeon.c#L1086-1084)\n",
    "    DUNGEON_SHAPE,\n",
    "    MAX_GLYPH,\n",
    ")\n",
    "\n",
    "from nle_toolbox.utils.env.defs import \\\n",
    "    glyph_is, dt_glyph_ext, ext_glyphlut\n",
    "\n",
    "from nle_toolbox.bot.level import Level, DungeonMapper"
   ]
  },
  {
   "cell_type": "markdown",
   "id": "d198a3d5",
   "metadata": {},
   "source": [
    "Detemine the walkability of the observed tiles"
   ]
  },
  {
   "cell_type": "code",
   "execution_count": null,
   "id": "0b0a3d55",
   "metadata": {},
   "outputs": [],
   "source": [
    "from nle_toolbox.utils.env.defs import symbol, GLYPH_CMAP_OFF, glyph_group, get_group\n",
    "from nle_toolbox.utils.env.defs import glyphlut, ext_glyphlut\n",
    "\n",
    "closed_doors = get_group(symbol, GLYPH_CMAP_OFF, *[\n",
    "    'S_vcdoor', 'S_hcdoor',\n",
    "    'S_vcdbridge', 'S_hcdbridge',\n",
    "])\n",
    "\n",
    "open_doors = get_group(symbol, GLYPH_CMAP_OFF, *[\n",
    "    'S_ndoor',\n",
    "    'S_vodoor', 'S_hodoor',\n",
    "    'S_vodbridge', 'S_hodbridge',\n",
    "])\n",
    "\n",
    "is_closed_door = np.isin(ext_glyphlut.id.value, np.array(list(closed_doors)))\n",
    "is_actor = np.isin(ext_glyphlut.id.group, np.array(list(glyph_group.ACTORS)))\n",
    "is_pet = ext_glyphlut.id.group == glyph_group.PET\n",
    "\n",
    "is_open_door = np.isin(ext_glyphlut.id.value, np.array(list(open_doors)))\n",
    "is_object = np.isin(ext_glyphlut.id.group, np.asarray(list(glyph_group.OBJECTS)))\n",
    "is_walkable = ext_glyphlut.is_accessible | is_open_door | is_object"
   ]
  },
  {
   "cell_type": "code",
   "execution_count": null,
   "id": "18d80dda",
   "metadata": {},
   "outputs": [],
   "source": [
    "traps = get_group(symbol, GLYPH_CMAP_OFF, *[\n",
    "    'S_arrow_trap',\n",
    "    'S_dart_trap',\n",
    "    'S_falling_rock_trap',\n",
    "    'S_squeaky_board',\n",
    "    'S_bear_trap',\n",
    "    'S_land_mine',\n",
    "    'S_rolling_boulder_trap',\n",
    "    'S_sleeping_gas_trap',\n",
    "    'S_rust_trap',\n",
    "    'S_fire_trap',\n",
    "    'S_pit',\n",
    "    'S_spiked_pit',\n",
    "    'S_hole',\n",
    "    'S_trap_door',\n",
    "    'S_teleportation_trap',\n",
    "    'S_level_teleporter',\n",
    "    'S_magic_portal',\n",
    "    'S_web',\n",
    "    'S_statue_trap',\n",
    "    'S_magic_trap',\n",
    "    'S_anti_magic_trap',\n",
    "    'S_polymorph_trap',\n",
    "    'S_vibrating_square',\n",
    "])\n",
    "\n",
    "is_trap = np.isin(ext_glyphlut.id.value, np.array(list(traps)))"
   ]
  },
  {
   "cell_type": "markdown",
   "id": "5177664e",
   "metadata": {},
   "source": [
    "The core of the \"smart\" dungeon explorer"
   ]
  },
  {
   "cell_type": "code",
   "execution_count": null,
   "id": "7b17319c",
   "metadata": {},
   "outputs": [],
   "source": [
    "from scipy.special import softmax\n",
    "\n",
    "def crawler(obs, mask, *, dir, seed=None):\n",
    "    dng = DungeonMapper()\n",
    "\n",
    "    # own random number generator\n",
    "    rng = np.random.default_rng(seed)\n",
    "\n",
    "    # a simple state machine: linger <<-->> crawler\n",
    "    state, n_linger, stack = 'linger', 16, []\n",
    "    while True:\n",
    "        dng.update(obs)\n",
    "        pos = dng.level.trace[-1]\n",
    "\n",
    "        if state == 'crawl':\n",
    "            if stack:\n",
    "                plan.pop()\n",
    "                act = dir[stack.pop()]\n",
    "\n",
    "            else:\n",
    "                state, n_linger = 'linger', 16\n",
    "                continue\n",
    "\n",
    "        elif state == 'linger':\n",
    "            if n_linger > 0:\n",
    "                n_linger -= 1\n",
    "\n",
    "                # if we're in LINGER state, pick a random non-forbidden action\n",
    "                # XXX whelp... tilde on int8 is `two's complement`, not the `logical not`\n",
    "                act = rng.choice(*np.logical_not(mask).nonzero())\n",
    "\n",
    "            else:\n",
    "                lvl = dng.level\n",
    "\n",
    "                # we've run out linger moves, time to pick a random destination\n",
    "                # and go to it\n",
    "                state = 'crawl'\n",
    "\n",
    "                # get the walkability cost\n",
    "                cost = np.where(\n",
    "                    # is_walkable[lvl.bg_tiles.glyph]\n",
    "                    (is_walkable | is_pet)[lvl.bg_tiles.glyph]\n",
    "                    , .334, np.inf)\n",
    "                # XXX adjust `cost` for hard-to-pass objects?\n",
    "                cost[is_trap[lvl.bg_tiles.glyph]] = 10.\n",
    "\n",
    "                # get the shortest paths from the current position\n",
    "                value, path = dij(cost, pos)\n",
    "\n",
    "                # draw a destination, the further the better\n",
    "                prob = softmax(np.where(\n",
    "                    is_closed_door[lvl.bg_tiles.glyph],\n",
    "                    100.,\n",
    "                    np.where(\n",
    "                        np.logical_and(\n",
    "                            np.isfinite(value),\n",
    "                            np.logical_not(\n",
    "                                is_trap[lvl.bg_tiles.glyph]\n",
    "                            )\n",
    "                        ), value, -np.inf\n",
    "                    ))\n",
    "                )\n",
    "                dest = divmod(rng.choice(prob.size, p=prob.flat), prob.shape[1])\n",
    "\n",
    "                # reconstruct the path to the destination in reverse order\n",
    "                plan = list(backup(path, dest))\n",
    "                for (r1, c1), (r0, c0) in zip(plan, plan[1:]):\n",
    "                    stack.append(dir_to_ascii[r1-r0, c1-c0])\n",
    "\n",
    "                plan.pop()\n",
    "                continue\n",
    "\n",
    "        obs, mask = yield act"
   ]
  },
  {
   "cell_type": "markdown",
   "id": "631ec111",
   "metadata": {},
   "source": [
    "How do we want to explore?\n",
    "* open closed doors\n",
    "* explore tunnels"
   ]
  },
  {
   "cell_type": "code",
   "execution_count": null,
   "id": "c2c40bd1",
   "metadata": {},
   "outputs": [],
   "source": [
    "dng = getgeneratorlocals(gen).get('dng')\n",
    "# dng.level.trace[-1]"
   ]
  },
  {
   "cell_type": "code",
   "execution_count": null,
   "id": "e53f76c2",
   "metadata": {},
   "outputs": [],
   "source": [
    "plt.imshow(dng.level.bg_tiles.info.is_accessible)"
   ]
  },
  {
   "cell_type": "markdown",
   "id": "83512a48",
   "metadata": {},
   "source": [
    "Implementing the random dungeon crwaler"
   ]
  },
  {
   "cell_type": "code",
   "execution_count": null,
   "id": "0a54f201",
   "metadata": {
    "scrolled": false
   },
   "outputs": [],
   "source": [
    "from inspect import getgeneratorlocals\n",
    "from nle_toolbox.bot.genfun import is_suspended\n",
    "\n",
    "# env = factory(seed=(8962210393456991721, 8431607288866012881))\n",
    "env = factory()\n",
    "\n",
    "cha, msk = get_wrapper(env, Chassis), get_wrapper(env, ActionMasker)\n",
    "\n",
    "(obs, mask), fin, buffer = env.reset(), False, deque([], 8)\n",
    "gen = crawler(obs, mask, dir=msk.directions)\n",
    "\n",
    "while ipynb_render(\n",
    "    obs,\n",
    "    clear=True,\n",
    "    fps=0.01,\n",
    "    plan=getgeneratorlocals(gen).get('plan'),\n",
    ") and not fin:\n",
    "    # if any(b'illegal' in msg for msg in cha.messages):\n",
    "    buffer.append(obs['tty_chars'].view('S80')[:, 0].copy())\n",
    "    if any(b'illegal' in line for line in buffer[-1]):\n",
    "        break\n",
    "\n",
    "    # default to immediately escaping from any menu or prompt\n",
    "    if cha.in_menu or cha.prompt:\n",
    "        (obs, mask), rew, fin, info = env.step(msk.escape)\n",
    "        continue\n",
    "\n",
    "    # we do not protect agains `StopIteration`, since we \n",
    "    #  expect the crawler to be an infinite loop.    \n",
    "    if is_suspended(gen):\n",
    "        act = gen.send((obs, mask))\n",
    "    else:\n",
    "        act = gen.send(None)\n",
    "\n",
    "    (obs, mask), rew, fin, info = env.step(act)\n",
    "\n",
    "gen.close()"
   ]
  },
  {
   "cell_type": "markdown",
   "id": "1e2f588a",
   "metadata": {},
   "source": [
    "     y  k  u  \n",
    "      \\ | /   \n",
    "    h - . - l \n",
    "      / | \\   \n",
    "     b  j  n  "
   ]
  },
  {
   "cell_type": "code",
   "execution_count": null,
   "id": "b0ff851f",
   "metadata": {},
   "outputs": [],
   "source": [
    "# get the walkability cost\n",
    "cost = np.where((\n",
    "    is_walkable\n",
    "    | is_pet\n",
    ")[obs['glyphs']], 1., np.inf)\n",
    "# XXX adjust `cost` for hard-to-pass objects?\n",
    "cost[is_trap[obs['glyphs']]] = 10.\n",
    "\n",
    "# get shroteste paths from the current position\n",
    "bls = obs['blstats']\n",
    "value, path = dij(cost, (bls[NLE_BL_Y], bls[NLE_BL_X]))\n",
    "\n",
    "prob = softmax(np.where(\n",
    "    np.logical_and(\n",
    "        np.isfinite(value),\n",
    "        np.logical_not(\n",
    "            is_trap[obs['glyphs']]\n",
    "        )\n",
    "    ), value, -np.inf\n",
    "))\n",
    "\n",
    "plt.imshow(value)"
   ]
  },
  {
   "cell_type": "markdown",
   "id": "f2ab898e",
   "metadata": {},
   "source": [
    "<hr>"
   ]
  },
  {
   "cell_type": "markdown",
   "id": "d5e6bc4b",
   "metadata": {},
   "source": [
    "Test the algo"
   ]
  },
  {
   "cell_type": "code",
   "execution_count": null,
   "id": "e8fa8e63",
   "metadata": {},
   "outputs": [],
   "source": [
    "r, c = 12, 12\n",
    "\n",
    "rng = np.random.default_rng()  #248675)\n",
    "\n",
    "cost = -np.log(rng.random((21, 79)))\n",
    "# cost = np.ones((21, 79))\n",
    "cost[rng.random(cost.shape) < .5] = np.inf\n",
    "\n",
    "value, path = dij(cost, (r, c))\n",
    "\n",
    "\n",
    "# mask = is_walkable[lvl.bg_tiles.glyph] | is_walkable[lvl.stg_tiles.glyph]\n",
    "mask = np.isfinite(value)\n",
    "mask[r, c] = False  # mask the current position\n",
    "\n",
    "from scipy.special import softmax\n",
    "\n",
    "value = np.where(value > 5, 0., -np.inf)\n",
    "prob = softmax(np.where(mask, value, -np.inf))"
   ]
  },
  {
   "cell_type": "markdown",
   "id": "841157d1",
   "metadata": {},
   "source": [
    "Play around with the shortes path."
   ]
  },
  {
   "cell_type": "code",
   "execution_count": null,
   "id": "96a9debb",
   "metadata": {},
   "outputs": [],
   "source": [
    "r, c = divmod(rng.choice(prob.size, p=prob.flat, ), prob.shape[1])\n",
    "\n",
    "displ = cost.copy()\n",
    "plan = list(backup(path, (r, c)))\n",
    "for ij in plan:\n",
    "    displ[ij] = 10\n",
    "displ[12, 12] = 11\n",
    "\n",
    "\n",
    "fig, ax = plt.subplots(1, 1, dpi=300)\n",
    "ax.imshow(displ)"
   ]
  },
  {
   "cell_type": "code",
   "execution_count": null,
   "id": "706e635d",
   "metadata": {},
   "outputs": [],
   "source": [
    "commands = []\n",
    "for (r1, c1), (r0, c0) in zip(plan, plan[1:]):\n",
    "    commands.append(dir_to_ascii[r1-r0, c1-c0])\n",
    "\n",
    "''.join(reversed(commands))"
   ]
  },
  {
   "cell_type": "markdown",
   "id": "8b9d5208",
   "metadata": {},
   "source": [
    "<br>"
   ]
  },
  {
   "cell_type": "code",
   "execution_count": null,
   "id": "2389619f",
   "metadata": {},
   "outputs": [],
   "source": [
    "assert False"
   ]
  },
  {
   "cell_type": "markdown",
   "id": "36c03a68",
   "metadata": {},
   "source": [
    "A non-illegal random action exploration."
   ]
  },
  {
   "cell_type": "code",
   "execution_count": null,
   "id": "5029be13",
   "metadata": {},
   "outputs": [],
   "source": [
    "from copy import deepcopy\n",
    "from nle_toolbox.bot.chassis import get_wrapper\n",
    "\n",
    "\n",
    "def random_explore(seed=None, n_steps=1000, *, auto=False, fps=None, copy=False):\n",
    "    \"\"\"A non-illegal random action explorer.\n",
    "    \"\"\"\n",
    "    ss_pol, ss_env = np.random.SeedSequence(seed).spawn(2)\n",
    "\n",
    "    rng, j, n_linger, pf = np.random.default_rng(ss_pol), 0, 0, None\n",
    "    with factory(seed=ss_env) as env:\n",
    "        # we need access to the Chassis for additional meta state variables\n",
    "        cha = get_wrapper(env, Chassis)\n",
    "\n",
    "        # ActionMasker caches the esacpe action id\n",
    "        ESC = get_wrapper(env, ActionMasker).escape\n",
    "        \n",
    "        # setup the dungeon mapper\n",
    "        dng = DungeonMapper()\n",
    "\n",
    "        # launch the episode\n",
    "        (obs, mask), fin = env.reset(), False\n",
    "        while (\n",
    "            ipynb_render(obs, clear=True, fps=fps)\n",
    "            and not (fin or j >= n_steps)\n",
    "        ):\n",
    "            # though nle reuses buffers, we do not deep copy them\n",
    "            #  delegating this to the downstream user instead\n",
    "            yield deepcopy(obs) if copy else obs\n",
    "\n",
    "            # default to immediately escaping from any menu or prompt\n",
    "            act = ESC\n",
    "            if not (cha.in_menu or cha.prompt):\n",
    "                dng.update(obs)\n",
    "\n",
    "                # if we're in LINGER state, pick a random non-forbidden action\n",
    "                # XXX whelp... tilde on int8 is `two's complement`, not the `logical not`\n",
    "                act = rng.choice(*np.logical_not(mask).nonzero())\n",
    "\n",
    "            (obs, mask), rew, fin, info = env.step(act)\n",
    "            j += 1\n",
    "\n",
    "            if fin and auto:\n",
    "                ipynb_render(obs, clear=True, fps=fps)\n",
    "                (obs, mask), fin = env.reset(), False"
   ]
  },
  {
   "cell_type": "markdown",
   "id": "e9f035ca",
   "metadata": {},
   "source": [
    "Get a random episode"
   ]
  },
  {
   "cell_type": "code",
   "execution_count": null,
   "id": "b393712d",
   "metadata": {},
   "outputs": [],
   "source": [
    "# from inspect import getgeneratorlocals\n",
    "episode = random_explore(\n",
    "    seed=None,\n",
    "    n_steps=256,\n",
    "    auto=False,\n",
    "    copy=True,\n",
    "    fps=0.01,\n",
    ")\n",
    "\n",
    "\n",
    "glyphs = [next(episode)]\n",
    "# dng = getgeneratorlocals(episode).get('dng')\n",
    "\n",
    "glyphs.extend(obs['glyphs'] for obs in episode)"
   ]
  },
  {
   "cell_type": "code",
   "execution_count": null,
   "id": "444b5165",
   "metadata": {},
   "outputs": [],
   "source": [
    "assert False"
   ]
  },
  {
   "cell_type": "code",
   "execution_count": null,
   "id": "8730f7eb",
   "metadata": {},
   "outputs": [],
   "source": [
    "from scipy.special import softmax\n",
    "\n",
    "def dstination_prob(lvl, pos):\n",
    "    r, c = pos\n",
    "    dist = np.maximum(abs(lvl.bg_tiles.rc.r - r), abs(lvl.bg_tiles.rc.c - c))\n",
    "\n",
    "    mask = is_walkable[lvl.bg_tiles.glyph] | is_walkable[lvl.stg_tiles.glyph]\n",
    "    mask[r, c] = False  # mask the current position\n",
    "    return softmax(np.minimum(np.where(mask, dist, -np.inf), 5))\n",
    "\n",
    "rng = np.random.default_rng()\n",
    "prob = dstination_prob(dng.level, dng.level.trace[-1])\n",
    "cost = np.where(prob > 0, 1., float('inf'))\n",
    "\n",
    "plt.imshow(prob)"
   ]
  },
  {
   "cell_type": "code",
   "execution_count": null,
   "id": "ef56c6e6",
   "metadata": {},
   "outputs": [],
   "source": [
    "plt.imshow(cost)"
   ]
  },
  {
   "cell_type": "code",
   "execution_count": null,
   "id": "8141fcd9",
   "metadata": {},
   "outputs": [],
   "source": [
    "def backup(path, dest):\n",
    "    p0 = dest\n",
    "    while True:\n",
    "        p0, p1 = path[p0], p0\n",
    "        yield p1\n",
    "        if p0 is None:\n",
    "            return\n",
    "\n",
    "#         (r0, c0), (r1, c1) = p0, p1\n",
    "#         yield directions[r1-r0, c1-c0]\n",
    "        "
   ]
  },
  {
   "cell_type": "code",
   "execution_count": null,
   "id": "f2c9b8c7",
   "metadata": {},
   "outputs": [],
   "source": [
    "value, path = dij(cost, dng.level.trace[-1])"
   ]
  },
  {
   "cell_type": "code",
   "execution_count": null,
   "id": "cfa36671",
   "metadata": {},
   "outputs": [],
   "source": [
    "val = value.copy()\n",
    "r, c = rng.choice(dng.level.bg_tiles.rc.flat, p=prob.flat)\n",
    "\n",
    "fig, ax = plt.subplots(1, 1, dpi=300)\n",
    "for i, j in backup(path, (r, c)):\n",
    "    val[i, j] = 0.\n",
    "\n",
    "val[r, c] = np.inf\n",
    "\n",
    "ax.imshow(val[:, 10:40])"
   ]
  },
  {
   "cell_type": "code",
   "execution_count": null,
   "id": "3413fbbb",
   "metadata": {},
   "outputs": [],
   "source": [
    "# ''.join(reversed())\n",
    "list()"
   ]
  },
  {
   "cell_type": "code",
   "execution_count": null,
   "id": "7ccdf31a",
   "metadata": {},
   "outputs": [],
   "source": []
  },
  {
   "cell_type": "code",
   "execution_count": null,
   "id": "08e9789a",
   "metadata": {},
   "outputs": [],
   "source": [
    "\n",
    "\n",
    "\n"
   ]
  },
  {
   "cell_type": "markdown",
   "id": "e31756f0",
   "metadata": {},
   "source": [
    "<br>"
   ]
  },
  {
   "cell_type": "raw",
   "id": "b3da9480",
   "metadata": {},
   "source": [
    "from nle_toolbox.bot.chassis import get_wrapper\n",
    "\n",
    "def pathfinder(env, obs, seed=None):\n",
    "    # pick a random destination and lay a shortest path to it\n",
    "    path = deque(path_to(uxy, dst))\n",
    "\n",
    "    while path and reachable(uxy, path):\n",
    "        obs = yield path.popleft()\n",
    "\n",
    "    state = 0\n",
    "\n",
    "\n",
    "    # if we're in the LINGER state, pick a random non-forbidden action\n",
    "    if state == 0:\n",
    "        # XXX whelp... tilde uint8 flips the sign bit and is not the logical not\n",
    "        act = rng.choice(*np.logical_not(mask).nonzero())\n",
    "\n",
    "    elif state == 1:\n",
    "        state = 2\n",
    "\n",
    "    elif state == 2:\n",
    "        if path and reachable(uxy, path):\n",
    "            act = \n",
    "\n",
    "        else:\n",
    "            # moving to the destination is complete, revert to lingering about\n",
    "            state = 0"
   ]
  },
  {
   "cell_type": "code",
   "execution_count": null,
   "id": "f813f8f3",
   "metadata": {},
   "outputs": [],
   "source": []
  },
  {
   "cell_type": "markdown",
   "id": "f9364a29",
   "metadata": {},
   "source": [
    "<br>"
   ]
  }
 ],
 "metadata": {
  "kernelspec": {
   "display_name": "Python 3 (ipykernel)",
   "language": "python",
   "name": "python3"
  },
  "language_info": {
   "codemirror_mode": {
    "name": "ipython",
    "version": 3
   },
   "file_extension": ".py",
   "mimetype": "text/x-python",
   "name": "python",
   "nbconvert_exporter": "python",
   "pygments_lexer": "ipython3",
   "version": "3.9.7"
  }
 },
 "nbformat": 4,
 "nbformat_minor": 5
}
