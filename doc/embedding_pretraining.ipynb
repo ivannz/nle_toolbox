{
 "cells": [
  {
   "cell_type": "markdown",
   "id": "865180a7",
   "metadata": {},
   "source": [
    "# Adapting W2V for unsipervised glyph embedding"
   ]
  },
  {
   "cell_type": "code",
   "execution_count": null,
   "id": "075f4e04",
   "metadata": {},
   "outputs": [],
   "source": [
    "import time\n",
    "import gym\n",
    "import nle\n",
    "\n",
    "import numpy as np\n",
    "import matplotlib.pyplot as plt"
   ]
  },
  {
   "cell_type": "code",
   "execution_count": null,
   "id": "81b9e23f",
   "metadata": {},
   "outputs": [],
   "source": [
    "del gym.Wrapper.__getattr__"
   ]
  },
  {
   "cell_type": "markdown",
   "id": "e9906d62",
   "metadata": {},
   "source": [
    "A wrpper that keeps track of the action history"
   ]
  },
  {
   "cell_type": "code",
   "execution_count": null,
   "id": "d123f070",
   "metadata": {},
   "outputs": [],
   "source": [
    "from collections import deque\n",
    "\n",
    "\n",
    "class RecentHistory(gym.Wrapper):\n",
    "    \"\"\"The base interaction architecture is essentially a middleman, who passes\n",
    "    the action to the underlying env and intercepts the resulting transition\n",
    "    data. It also is allowed, but not obliged to interact with the env, while\n",
    "    intercepting the observations.\n",
    "    \"\"\"\n",
    "    def __init__(self, env, *, n_recent=0):\n",
    "        super().__init__(env)\n",
    "        self.recent = deque([], n_recent)\n",
    "\n",
    "    def reset(self, seed=None):\n",
    "        return self.env.reset()\n",
    "\n",
    "    def step(self, action):\n",
    "        self.recent.append(action)\n",
    "        return self.env.step(action)"
   ]
  },
  {
   "cell_type": "markdown",
   "id": "330fa985",
   "metadata": {},
   "source": [
    "We hide the NLE under several layers of wrappers. From the core to the shell:\n",
    "1. `ReplayToFile` saves the seeds and the takes actions into a file for later inspection and replay.\n",
    "2. `NLEAtoN` maps ascii actions to opaque actions accpeted by the NLE.\n",
    "3. `NLEPatches` patches tty-screens, botched by the cr-lf misconfiguration of the NLE's tty term emulator and NetHacks displays (lf only).\n",
    "4. `NLEFeatures` adds extra features generated on-the-fly from the current NLE's observation. "
   ]
  },
  {
   "cell_type": "code",
   "execution_count": null,
   "id": "0ceb7ce4",
   "metadata": {},
   "outputs": [],
   "source": [
    "from nle_toolbox.utils.play.wrapper import ReplayToFile, Replay\n",
    "from nle_toolbox.utils.env.wrappers import NLEPatches, NLEAtoN, NLEFeatures\n",
    "\n",
    "def gui_factory(seed=None):\n",
    "    env = NLEPatches(\n",
    "        ReplayToFile(\n",
    "            gym.make('NetHackChallenge-v0'),\n",
    "            save_on='done',\n",
    "            sticky=True,\n",
    "            folder='./replays',\n",
    "        ),\n",
    "    )\n",
    "\n",
    "    env.seed(seed)\n",
    "\n",
    "    return NLEAtoN(env)\n",
    "    "
   ]
  },
  {
   "cell_type": "markdown",
   "id": "1644a2ab",
   "metadata": {},
   "source": [
    "We start with implementing a simple command evaluator."
   ]
  },
  {
   "cell_type": "code",
   "execution_count": null,
   "id": "71997f69",
   "metadata": {},
   "outputs": [],
   "source": [
    "def gui_run(\n",
    "    env,\n",
    "    *commands\n",
    "):\n",
    "    pipe0 = deque([])\n",
    "    obs, done = env.reset(), False\n",
    "    for cmd in commands:\n",
    "        pipe0.extend(cmd)\n",
    "        while pipe0 and not done:\n",
    "            obs, rew, done, info = env.step(pipe0.popleft())\n",
    "\n",
    "        yield obs\n",
    "        if done:\n",
    "            break"
   ]
  },
  {
   "cell_type": "markdown",
   "id": "312a3da8",
   "metadata": {},
   "source": [
    "A renderer"
   ]
  },
  {
   "cell_type": "code",
   "execution_count": null,
   "id": "bf7124c4",
   "metadata": {},
   "outputs": [],
   "source": [
    "import pprint as pp\n",
    "\n",
    "from time import sleep\n",
    "from nle_toolbox.utils.env.render import render as tty_render\n",
    "\n",
    "def ipynb_render(obs, clear=True, fps=None):\n",
    "    if fps is None:\n",
    "        return True\n",
    "\n",
    "    from IPython.display import clear_output\n",
    "    if clear:\n",
    "        clear_output(wait=True)\n",
    "\n",
    "    print(tty_render(**obs))\n",
    "    if fps > 0:\n",
    "        sleep(fps)\n",
    "\n",
    "    return True"
   ]
  },
  {
   "cell_type": "markdown",
   "id": "f5746554",
   "metadata": {},
   "source": [
    "Below is a wrapper, which handles menus (unless an interaction is required) and\n",
    "fetches all consecutive messages."
   ]
  },
  {
   "cell_type": "code",
   "execution_count": null,
   "id": "9bbb5108",
   "metadata": {},
   "outputs": [],
   "source": [
    "from nle_toolbox.bot.chassis import Chassis, ActionMasker"
   ]
  },
  {
   "cell_type": "markdown",
   "id": "151e0bc0",
   "metadata": {},
   "source": [
    "Let's test it in bulk."
   ]
  },
  {
   "cell_type": "code",
   "execution_count": null,
   "id": "beb23f2e",
   "metadata": {
    "scrolled": false
   },
   "outputs": [],
   "source": [
    "# seed = None\n",
    "# seed = 12513325507677477210, 18325590921330101247  # multi\n",
    "# seed = 1251332550767747710, 18325590921330101247  # single\n",
    "# seed = 125133255076774710, 18325590921330101247  # single\n",
    "# seed = 13765371332493407478, 12246923801353953927\n",
    "# seed = 12301533412141513004, 11519511065143048485\n",
    "# seed = 1632082041122464284, 11609152793318129379\n",
    "seed = 12604736832047991440, 12469632217503715839  # an aspirant\n",
    "# seed = 5009195464289726085, 12625175316870653325\n",
    "\n",
    "with Chassis(RecentHistory(gui_factory(seed), n_recent=None), split=False) as env:\n",
    "    for obs in gui_run(\n",
    "        env,\n",
    "        ';j:',         # a paragraph about a cat\n",
    "#         'acy',         # break a wand \"of slow\" and blow up\n",
    "        '\\033Zbyyy,',  # cast a sleep ray at a newt and pick up its corpse\n",
    "    ):\n",
    "        ipynb_render(obs, clear=False)  # dump(env.env, obs[0])\n",
    "        pp.pprint(\n",
    "            (\n",
    "                env.messages,\n",
    "            )\n",
    "        )"
   ]
  },
  {
   "cell_type": "raw",
   "id": "9f5491bf",
   "metadata": {},
   "source": [
    "import pdb;pdb.pm()"
   ]
  },
  {
   "cell_type": "markdown",
   "id": "efdc0b8e",
   "metadata": {},
   "source": [
    "The factory for collecting random exploration rollouts"
   ]
  },
  {
   "cell_type": "code",
   "execution_count": null,
   "id": "b6aed90d",
   "metadata": {},
   "outputs": [],
   "source": [
    "# from nle_toolbox.utils import seeding\n",
    "\n",
    "def factory(seed=None, folder=None):\n",
    "    # get the base env and apply tty patches\n",
    "    env = NLEPatches(gym.make('NetHackChallenge-v0'))\n",
    "    ctoa = {chr(a): j for j, a in enumerate(env.unwrapped._actions)}\n",
    "\n",
    "    # setup seed runs capabilities\n",
    "    if folder is None:\n",
    "        env = Replay(env, sticky=True)\n",
    "\n",
    "    else:\n",
    "        env = ReplayToFile(env, sticky=True,\n",
    "                           folder=folder, save_on='done')\n",
    "    env.seed(seed)\n",
    "\n",
    "    # if not isinstance(seed, tuple):\n",
    "    #     seed = seeding.generate(seed)\n",
    "    # seeding.pyroot(env).set_initial_seeds(*seed, False)\n",
    "\n",
    "    # use chassis\n",
    "    env = RecentHistory(env, n_recent=32)\n",
    "    return ActionMasker(Chassis(env, space=ctoa[' '], split=False))"
   ]
  },
  {
   "cell_type": "markdown",
   "id": "36c03a68",
   "metadata": {},
   "source": [
    "A non-illegal random action exploration."
   ]
  },
  {
   "cell_type": "code",
   "execution_count": null,
   "id": "5029be13",
   "metadata": {},
   "outputs": [],
   "source": [
    "from copy import deepcopy\n",
    "\n",
    "def random_explore(seed=None, n_steps=1000, *, auto=False, fps=None, copy=False):\n",
    "    \"\"\"A non-illegal random action explorer.\n",
    "    \"\"\"\n",
    "    ss_pol, ss_env = np.random.SeedSequence(seed).spawn(2)\n",
    "\n",
    "    rng, j = np.random.default_rng(ss_pol), 0\n",
    "    with factory(seed=ss_env) as env:\n",
    "        (obs, mask), fin = env.reset(), False\n",
    "        while (\n",
    "            ipynb_render(obs, clear=True, fps=fps)\n",
    "            and not (fin or j >= n_steps)\n",
    "        ):\n",
    "            # though nle reuses buffers, we do not deep copy them\n",
    "            #  delegating this to the downstream user instead\n",
    "            yield deepcopy(obs) if copy else obs\n",
    "\n",
    "            # sample from non-forbidden actions\n",
    "            # XXX whelp... tilde uint8 flips the sign bit and is not the logical not\n",
    "            act = rng.choice(*np.logical_not(mask).nonzero())\n",
    "            (obs, mask), rew, fin, info = env.step(act)\n",
    "            j += 1\n",
    "\n",
    "            if fin and auto:\n",
    "                ipynb_render(obs, clear=True, fps=fps)\n",
    "                (obs, mask), fin = env.reset(), False    "
   ]
  },
  {
   "cell_type": "markdown",
   "id": "de9e9e46",
   "metadata": {},
   "source": [
    "Set up the glyph-to-vec embedding model"
   ]
  },
  {
   "cell_type": "code",
   "execution_count": null,
   "id": "bb447c23",
   "metadata": {},
   "outputs": [],
   "source": [
    "import torch\n",
    "import torch.nn.functional as F\n",
    "\n",
    "from collections import OrderedDict\n",
    "\n",
    "from torch import nn\n",
    "from torch.nn.utils.weight_norm import weight_norm\n",
    "\n",
    "from nle.nethack import MAX_GLYPH, DUNGEON_SHAPE\n",
    "\n",
    "from nle_toolbox.utils.env.defs import glyphlut\n",
    "from nle_toolbox.utils.env.defs import MAX_ENTITY, glyph_group\n",
    "\n",
    "from nle_toolbox.bot.model.glyph import GlyphEmbedding\n",
    "\n",
    "\n",
    "embedding = GlyphEmbedding(embedding_dim=128)\n",
    "g2v = nn.Sequential(OrderedDict([\n",
    "    ('inp', embedding),\n",
    "    ('out', weight_norm(\n",
    "        # XXX are we sure we need this weight reparam here?\n",
    "        #  \\frac{g_j}{\\|w_j\\|} w_j, j=0..d for m -->> d linear layer\n",
    "        nn.Linear(128, MAX_ENTITY + 1, bias=False)\n",
    "    )),\n",
    "]))\n",
    "\n",
    "optim = torch.optim.Adam(\n",
    "    g2v.parameters(),\n",
    "    lr=1e-3,\n",
    ")\n",
    "\n",
    "n_border = 1"
   ]
  },
  {
   "cell_type": "markdown",
   "id": "2e2da249",
   "metadata": {},
   "source": [
    "### w2v\n",
    "\n",
    "Let's repurpose the word-to-vec skip-gram model to train good initial glyph embeddings.\n",
    "\n",
    "$$\n",
    "p(w\\mid c)\n",
    "    \\propto \\exp\\{\\theta_w^\\top \\phi_c\\}\n",
    "    \\,,$$\n",
    "$\\phi_v, \\theta_v \\in \\mathbb{R}^d$.\n",
    "\n",
    "Consider the context graph $G = (V, E)$. Skip-gram W2V embedding models the probability of\n",
    "a context $G_c$ of a given token $c$ with\n",
    "$$\n",
    "p(G_c)\n",
    "    = \\pi(c) p(G_c \\mid c)\n",
    "    = \\pi(c) \\prod_{w \\in G_c} p(w \\mid c)\n",
    "    \\,, $$\n",
    "where $\n",
    "    G_v := \\{w \\in G\\colon vw in E\\}\n",
    "$ is the collection of the $E$-neighbours of $v$ and $w \\in G$ stands for iterating\n",
    "over tokens in $V$ with $w$."
   ]
  },
  {
   "cell_type": "markdown",
   "id": "dae8807f",
   "metadata": {},
   "source": [
    "Assuming independent contexts (**why?**), skip-gram W2V maximizes the following log-likelihood:\n",
    "$$\n",
    "\\mathcal{L}\n",
    "    = \\frac1{\\lvert G \\rvert} \\sum_{c \\in G} \\log p(G_c)\n",
    "    = \\frac1{\\lvert G \\rvert} \\sum_{c \\in G} \\biggl(\n",
    "        \\log \\pi(c) + \\sum_{w \\in G_c} \\log p(w\\mid c)\n",
    "    \\biggr)\n",
    "    \\,. $$\n",
    "\n",
    "Let's notice that $G$ is an undirected graph, which implies that\n",
    "$$\n",
    "\\sum_{c\\in G} \\sum_{w \\in G_c}\n",
    "        = \\sum_{uw \\in E}\n",
    "        = \\sum_{w \\in G} \\sum_{c \\in G_w}\n",
    "    \\,. $$\n",
    "Hence,\n",
    "$$\n",
    "\\mathcal{L}\n",
    "    = \\frac1{\\lvert G \\rvert} \\sum_{w \\in G} \\biggl(\n",
    "        \\log \\pi(w) + \\sum_{c \\in G_w} \\log p(w\\mid c)\n",
    "    \\biggr)\n",
    "    \\,. $$"
   ]
  },
  {
   "attachments": {
    "image.png": {
     "image/png": "[encoded data removed]"
    }
   },
   "cell_type": "markdown",
   "id": "c7da1bca",
   "metadata": {},
   "source": [
    "![image.png](attachment:image.png)"
   ]
  },
  {
   "cell_type": "markdown",
   "id": "925f3876",
   "metadata": {},
   "source": [
    "Ignoring the prior glyph probabilities (**why?**) and randomizing over the contexts,\n",
    "the final loss to be minimized is\n",
    "$$\n",
    "\\mathcal{L}\n",
    "    = \\mathbb{E}_G \\mathbb{E}_{w\\sim G}\n",
    "        \\sum_{c \\in G_w} \\log p(w\\mid c)\n",
    "    \\,, $$\n",
    "which means that it is possible to sample contexts $G_w$ instead of full 2d meshes $G$."
   ]
  },
  {
   "cell_type": "markdown",
   "id": "28100536",
   "metadata": {},
   "source": [
    "The following online batch prefetcher logic was copied from elsewhere."
   ]
  },
  {
   "cell_type": "code",
   "execution_count": null,
   "id": "ba2e7343",
   "metadata": {
    "scrolled": false
   },
   "outputs": [],
   "source": [
    "import tqdm\n",
    "from torch.utils.data._utils.collate import default_collate\n",
    "\n",
    "from nle_toolbox.utils.fold import pyt_fold2d\n",
    "\n",
    "it = random_explore(\n",
    "    seed=None,\n",
    "    n_steps=float('inf'),\n",
    "    auto=True,\n",
    "    copy=False,\n",
    "    fps=0.01,\n",
    ")\n",
    "losses = []\n",
    "\n",
    "# the stream prefetch buffer size, the batch size, and\n",
    "#  the overall number of batches\n",
    "n_buffer_size, n_batch_size, n_batches = 256, 1, 500*8\n",
    "prefetch, buffer = [], []\n",
    "# XXX we can actually fetch the neighbouring context into the buffer\n",
    "\n",
    "# bordering array (MAX_GLYPH <<-->> MAX_ENTITY)\n",
    "rows, cols = DUNGEON_SHAPE\n",
    "bordered = np.full(\n",
    "    (n_border + rows + n_border, n_border + cols + n_border),\n",
    "    MAX_GLYPH, dtype=np.int16)\n",
    "stage = bordered[n_border:-n_border, n_border:-n_border]\n",
    "\n",
    "# prng for prefetch -->> batch eviction\n",
    "rng = np.random.default_rng()\n",
    "\n",
    "# the total number of step in the env (+1 for collation step)\n",
    "n_total = n_buffer_size + (n_batch_size + 1) * n_batches\n",
    "with tqdm.tqdm(range(n_total), ncols=80, disable=True) as bar:\n",
    "    for j in bar:\n",
    "        # (collect) fetch the next obs\n",
    "        obs = next(it)\n",
    "\n",
    "        # (collect) we reuse the buffer\n",
    "        np.copyto(stage, obs['glyphs'])\n",
    "        item = bordered.copy()\n",
    "\n",
    "        # (collect) add a sample to the prefetch buffer\n",
    "        if len(prefetch) < n_buffer_size:\n",
    "            prefetch.append(item)\n",
    "            continue\n",
    "\n",
    "        # (collect) if prefetch is full, randomly evict into the batch buffer\n",
    "        elif len(buffer) < n_batch_size:\n",
    "            ix = rng.integers(len(prefetch))\n",
    "            buffer.append(prefetch[ix])\n",
    "            prefetch[ix] = item\n",
    "            continue\n",
    "\n",
    "        # XXX reached every `n_batch_size`-th iteration after the prefetch\n",
    "        #  buffer has been saturated\n",
    "        pass\n",
    "\n",
    "        # (collect) collate a batch and flush\n",
    "        batch = default_collate(buffer)\n",
    "        buffer.clear()\n",
    "\n",
    "        # (g2v) fwd through the embedding model\n",
    "        # XXX \\log p(w \\mid c) conditional prob of w given c\n",
    "        raw = g2v(batch).permute(0, 3, 1, 2).clone()\n",
    "        logprob = F.log_softmax(raw, dim=1)\n",
    "\n",
    "        # (g2v) ignore the artificial borders\n",
    "        _, entity = embedding.lookup(batch[..., n_border:-n_border, n_border:-n_border])\n",
    "        context = pyt_fold2d(raw, k=n_border, n_leading=-2)\n",
    "        c_raw = raw[..., n_border:-n_border, n_border:-n_border]\n",
    "\n",
    "        # (g2v) compute the skip-gram embedding loss\n",
    "        # XXX full[:, x, y, i, j] = \\log p((x, y) \\mid (i, j))\n",
    "        #     cent[:, x, y] = \\log p((x, y) \\mid (x, y))\n",
    "        # XXX .cross_entropy does its own `log_softmax`\n",
    "        target = entity.reshape(*entity.shape, 1, 1).expand(-1, -1, -1, *context.shape[-2:])\n",
    "        full = F.cross_entropy(context, target, reduction='none')\n",
    "        cent = F.cross_entropy(c_raw, entity, reduction='none')\n",
    "\n",
    "        loss = full.sum((-1, -2)).mean() - cent.mean()\n",
    "\n",
    "        # (train) zero-grad backward and step blah blah yada yada\n",
    "        optim.zero_grad()\n",
    "        loss.backward()\n",
    "        optim.step()\n",
    "\n",
    "        losses.append(float(loss))\n",
    "\n",
    "        bar.set_postfix_str(f'{float(loss):.2e}')"
   ]
  },
  {
   "cell_type": "markdown",
   "id": "f9364a29",
   "metadata": {},
   "source": [
    "<br>"
   ]
  }
 ],
 "metadata": {
  "kernelspec": {
   "display_name": "Python 3 (ipykernel)",
   "language": "python",
   "name": "python3"
  },
  "language_info": {
   "codemirror_mode": {
    "name": "ipython",
    "version": 3
   },
   "file_extension": ".py",
   "mimetype": "text/x-python",
   "name": "python",
   "nbconvert_exporter": "python",
   "pygments_lexer": "ipython3",
   "version": "3.9.7"
  }
 },
 "nbformat": 4,
 "nbformat_minor": 5
}
