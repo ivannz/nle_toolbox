{
 "cells": [
  {
   "cell_type": "markdown",
   "id": "60a978e8",
   "metadata": {},
   "source": [
    "# Chassis debugger"
   ]
  },
  {
   "cell_type": "code",
   "execution_count": null,
   "id": "075f4e04",
   "metadata": {},
   "outputs": [],
   "source": [
    "import time\n",
    "import gym\n",
    "import nle"
   ]
  },
  {
   "cell_type": "code",
   "execution_count": null,
   "id": "81b9e23f",
   "metadata": {},
   "outputs": [],
   "source": [
    "del gym.Wrapper.__getattr__"
   ]
  },
  {
   "cell_type": "markdown",
   "id": "c91212f6",
   "metadata": {},
   "source": [
    "We hide the NLE under several layers of wrappers. From the core to the shell:\n",
    "1. `ReplayToFile` handles seeding and logs the taken actions and seed into a file for later inspection and replay.\n",
    "\n",
    "2. `NLEObservationPatches` patches tty-screens, botched by the cr-lf misconfiguration of the NLE's tty term emulator and NetHacks displays (lf only).\n",
    "\n",
    "3. `Chassis` handles skippable gui events that do not require a decision, such as collecting menu pages unless an interaction is required, fetching consecutive topline or log messages.\n",
    "\n",
    "4. `ActionMasker` computes the mask of action that are **forbidden** in the current game state (_gui_ or _play_)\n",
    "\n",
    "5. `NLEAtoN` maps ascii actions to opaque actions accpeted by the NLE."
   ]
  },
  {
   "cell_type": "code",
   "execution_count": null,
   "id": "efa0be4a",
   "metadata": {},
   "outputs": [],
   "source": [
    "from nle_toolbox.bot.chassis import get_wrapper\n",
    "from nle_toolbox.utils.replay import ReplayToFile, Replay\n",
    "from nle_toolbox.utils.env.wrappers import NLEObservationPatches\n",
    "from nle_toolbox.bot.chassis import Chassis, ActionMasker\n",
    "from nle_toolbox.utils.env.wrappers import NLEAtoN\n",
    "\n",
    "def factory(seed=None, folder=None, sticky=False):\n",
    "    env = gym.make('NetHackChallenge-v0')\n",
    "\n",
    "    from nle.nethack import ACTIONS\n",
    "    ctoa = {chr(a): j for j, a in enumerate(env.unwrapped._actions)}\n",
    "    atoc = tuple(map(chr, env.unwrapped._actions))\n",
    "\n",
    "    # provide seeding capabilities and full action tracking\n",
    "    if folder is None:\n",
    "        env = Replay(env, sticky=sticky)\n",
    "\n",
    "    else:\n",
    "        env = ReplayToFile(env, sticky=sticky, folder=folder, save_on='done')\n",
    "    env.seed(seed)\n",
    "\n",
    "    # patch bugged tty output\n",
    "    env = NLEObservationPatches(env)\n",
    "\n",
    "    # skippable gui abstraction layer. Bypassed if the action\n",
    "    # space does not bind a SPACE action.\n",
    "    env = Chassis(env, space=ctoa.get(' '), split=False)\n",
    "\n",
    "    # compute and action mask based on the current NLE mode: gui or play\n",
    "    env = ActionMasker(env)\n",
    "    return env"
   ]
  },
  {
   "cell_type": "markdown",
   "id": "312a3da8",
   "metadata": {},
   "source": [
    "A renderer for this **factory**"
   ]
  },
  {
   "cell_type": "code",
   "execution_count": null,
   "id": "bf7124c4",
   "metadata": {},
   "outputs": [],
   "source": [
    "from time import sleep\n",
    "\n",
    "from nle_toolbox.utils.env.render import render as tty_render\n",
    "from IPython.display import clear_output\n",
    "\n",
    "def ipynb_render(obs, clear=True, fps=None):\n",
    "    if fps is not None:\n",
    "        if clear:\n",
    "            clear_output(wait=True)\n",
    "\n",
    "        obs, mask = obs\n",
    "        print(tty_render(**obs))\n",
    "        if fps > 0:\n",
    "            sleep(fps)\n",
    "\n",
    "    return True"
   ]
  },
  {
   "cell_type": "markdown",
   "id": "1644a2ab",
   "metadata": {},
   "source": [
    "We start with implementing a simple command evaluator."
   ]
  },
  {
   "cell_type": "code",
   "execution_count": null,
   "id": "71997f69",
   "metadata": {},
   "outputs": [],
   "source": [
    "from collections import deque\n",
    "\n",
    "def gui_run(env, *commands):\n",
    "    pipe0 = deque([])\n",
    "    obs, fin = env.reset(), False\n",
    "    for cmd in commands:\n",
    "        if fin:\n",
    "            break\n",
    "\n",
    "        pipe0.extend(cmd)\n",
    "        while pipe0 and not fin:\n",
    "            obs, rew, fin, nfo = env.step(pipe0.popleft())\n",
    "\n",
    "        yield obs"
   ]
  },
  {
   "cell_type": "markdown",
   "id": "7570ba4d",
   "metadata": {},
   "source": [
    "The code below is used to debug certain events and gui"
   ]
  },
  {
   "cell_type": "code",
   "execution_count": null,
   "id": "528d9c10",
   "metadata": {
    "scrolled": false
   },
   "outputs": [],
   "source": [
    "import pprint as pp\n",
    "\n",
    "def run(seed, *commands):\n",
    "    with NLEAtoN(factory(seed, sticky=True)) as env:\n",
    "        cha = get_wrapper(env, Chassis)\n",
    "        for obs in gui_run(env, *commands):\n",
    "            pp.pprint(\n",
    "                (\n",
    "                    cha.messages, cha.prompt,  # obs['tty_chars'][0].view('S80')[0].strip(),\n",
    "                    cha.in_getlin, cha.in_menu, cha.in_yn_function, cha.xwaitingforspace,\n",
    "                )\n",
    "            )\n",
    "\n",
    "            ipynb_render(obs, clear=False, fps=0.01)  # dump(env.env, obs[0])"
   ]
  },
  {
   "cell_type": "markdown",
   "id": "45e46693",
   "metadata": {},
   "source": [
    "Interesting historical seeds"
   ]
  },
  {
   "cell_type": "code",
   "execution_count": null,
   "id": "efaaa8d2",
   "metadata": {},
   "outputs": [],
   "source": [
    "# seed = 13765371332493407478, 12246923801353953927\n",
    "# seed = 12301533412141513004, 11519511065143048485\n",
    "# seed = 1632082041122464284, 11609152793318129379\n",
    "# seed = 5009195464289726085, 12625175316870653325\n",
    "# seed = 8962210393456991721, 8431607288866012881\n",
    "# seed = 14729177660914946268, 9187177962698747861\n",
    "# seed = 16892554419799916328, 6562518563582851317\n",
    "\n",
    "# seed = 12513325507677477210, 18325590921330101247  # Ranger, arrows, dualwields\n",
    "# seed = 1251332550767747710, 18325590921330101247  # Monk, martial arts, single\n",
    "# seed = 125133255076774710, 18325590921330101247  # single\n",
    "# seed = 14278027783296323177, 11038440290352864458  # valkyrie, dual-wield\n",
    "# seed = 5009195464289726085, 12625175316870653325  # priestess, can loot lots of spells"
   ]
  },
  {
   "cell_type": "markdown",
   "id": "fd5b3077",
   "metadata": {},
   "source": [
    "Long multi-part message log"
   ]
  },
  {
   "cell_type": "code",
   "execution_count": null,
   "id": "ea4052ed",
   "metadata": {},
   "outputs": [],
   "source": [
    "seed = 12604736832047991440, 12469632217503715839  # Wizard, three spells, exploding wand\n",
    "run(\n",
    "    seed,\n",
    "    ';j:',         # a paragraph about a cat\n",
    "    'acy',         # break a wand \"of slow\" and blow up\n",
    ")"
   ]
  },
  {
   "cell_type": "markdown",
   "id": "099334bd",
   "metadata": {},
   "source": [
    "Misparsed interacitve menu"
   ]
  },
  {
   "cell_type": "code",
   "execution_count": null,
   "id": "146f2f92",
   "metadata": {},
   "outputs": [],
   "source": [
    "seed = 5114808244567105441, 11072120331074183808  # Digger with a buggy backpack\n",
    "run(\n",
    "    seed,\n",
    "    '',\n",
    "    'lTb'            # pick up coins, take off leather jacket\n",
    "    'ahiU $bdefg ',  # put into a sack the specified uncursed items\n",
    "    'ahbb\\r'         # try to take out coins\n",
    "                     # <<-- FAILS, unless we add \\$ to letter in `rx_menu_item`\n",
    "    '$ b '\n",
    ")"
   ]
  },
  {
   "cell_type": "markdown",
   "id": "462c0bf2",
   "metadata": {},
   "source": [
    "<br>"
   ]
  }
 ],
 "metadata": {
  "kernelspec": {
   "display_name": "Python 3 (ipykernel)",
   "language": "python",
   "name": "python3"
  },
  "language_info": {
   "codemirror_mode": {
    "name": "ipython",
    "version": 3
   },
   "file_extension": ".py",
   "mimetype": "text/x-python",
   "name": "python",
   "nbconvert_exporter": "python",
   "pygments_lexer": "ipython3",
   "version": "3.9.7"
  }
 },
 "nbformat": 4,
 "nbformat_minor": 5
}
