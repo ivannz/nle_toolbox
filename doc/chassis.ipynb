{
 "cells": [
  {
   "cell_type": "markdown",
   "id": "865180a7",
   "metadata": {},
   "source": [
    "# Chassis proto"
   ]
  },
  {
   "cell_type": "code",
   "execution_count": null,
   "id": "075f4e04",
   "metadata": {},
   "outputs": [],
   "source": [
    "import time\n",
    "import gym\n",
    "import nle\n",
    "\n",
    "import numpy as np\n",
    "import matplotlib.pyplot as plt"
   ]
  },
  {
   "cell_type": "markdown",
   "id": "3b65cceb",
   "metadata": {},
   "source": [
    "We hide the NLE under several layers of wrappers. From the core to the shell:\n",
    "1. `ReplayToFile` saves the seeds and the takes actions into a file for later inspection and replay.\n",
    "2. `NLEAtoN` maps ascii actions to opaque actions accpeted by the NLE.\n",
    "3. `NLEObservationPatches` patches tty-screens, botched by the cr-lf misconfiguration of the NLE's tty term emulator and NetHacks displays (lf only).\n",
    "4. `NLEFeatureExtractor` adds extra features generated on-the-fly from the current NLE's observation. "
   ]
  },
  {
   "cell_type": "code",
   "execution_count": null,
   "id": "0ceb7ce4",
   "metadata": {},
   "outputs": [],
   "source": [
    "from nle_toolbox.utils.replay import ReplayToFile\n",
    "from nle_toolbox.utils.env.wrappers import NLEObservationPatches, NLEAtoN, NLEFeatureExtractor\n",
    "\n",
    "\n",
    "def factory():\n",
    "    return \\\n",
    "    NLEFeatureExtractor(\n",
    "        NLEObservationPatches(\n",
    "            NLEAtoN(\n",
    "                ReplayToFile(\n",
    "                    gym.make(\n",
    "                        'NetHackChallenge-v0'\n",
    "                    ),\n",
    "                    save_on='done',\n",
    "                    sticky=True,\n",
    "                    folder='./replays',\n",
    "                )\n",
    "            )\n",
    "        ),\n",
    "        k=2,  # vicinity radius\n",
    "    )"
   ]
  },
  {
   "cell_type": "markdown",
   "id": "1644a2ab",
   "metadata": {},
   "source": [
    "## Basic GUI Handling\n",
    "\n",
    "NetHack's gui is not as intricate as in some other games. We need to deal\n",
    "with menus, text prompts, messages and y/n questions. In order to analyze\n",
    "the interface details and player's journey through the UI, we first implement\n",
    "a simple command evaluator."
   ]
  },
  {
   "cell_type": "code",
   "execution_count": null,
   "id": "dbf29f60",
   "metadata": {},
   "outputs": [],
   "source": [
    "from collections import deque\n",
    "\n",
    "def gui_run(\n",
    "    env,\n",
    "    *commands\n",
    "):\n",
    "    pipe0 = deque([])\n",
    "    obs = env.reset()\n",
    "    for cmd in commands:\n",
    "        pipe0.extend(cmd)\n",
    "        while pipe0:\n",
    "            obs, *ignore = env.step(pipe0.popleft())\n",
    "\n",
    "        yield obs"
   ]
  },
  {
   "cell_type": "markdown",
   "id": "eea236f5",
   "metadata": {},
   "source": [
    "### Menus\n",
    "\n",
    "There are two types of menus on NetHack: single paged and multipage. Single\n",
    "page menus popup in the middle of the terminal ontop of the dungeon map (and\n",
    "are sort of `dirty`, meaning that they have arbitrary symbols around them),\n",
    "while multi-page menus take up the entire screen after clearing it. Overlaid\n",
    "menu regions appear to be right justified, while their contents' text is\n",
    "left-justified. All menus are modal, i.e. capture the keyboard input until\n",
    "exited. Some menus are static, i.e. display some information, while other\n",
    "are interactive, i.e. allow item selection with letters or punctuation. However,\n",
    "both kinds share two special control keys. The space `\\0x20` (`\\040`, 32,\n",
    "`<SPACE>`) advances to the next page, or closes the menu, if the page was\n",
    "the last or the only one. The escape `\\0x1b` (`\\033`, 27, `^[`) immediately\n",
    "exits any menu."
   ]
  },
  {
   "cell_type": "code",
   "execution_count": null,
   "id": "20a7a3b2",
   "metadata": {},
   "outputs": [],
   "source": [
    "import re\n",
    "\n",
    "rx_menu_is_overlay = re.compile(\n",
    "    r\"\"\"\n",
    "    \\(\n",
    "        (\n",
    "            # either we get a short single-page overlay menu\n",
    "            end\n",
    "        |\n",
    "            # or a long multi-page menu\n",
    "            (?P<cur>\\d+)\n",
    "            \\s+ of \\s+\n",
    "            (?P<tot>\\d+)\n",
    "        )\n",
    "    \\)\\s*$\n",
    "    \"\"\",\n",
    "    re.VERBOSE | re.IGNORECASE | re.MULTILINE | re.ASCII,\n",
    ")\n",
    "\n",
    "rx_menu_item = re.compile(\n",
    "    r\"\"\"\n",
    "    ^(\n",
    "        (?P<letter>[a-z])\n",
    "        \\s+[\\-\\+]\n",
    "    )?\\s+\n",
    "    (?P<item>.*)\n",
    "    $\n",
    "    \"\"\",\n",
    "    re.VERBOSE | re.IGNORECASE | re.ASCII,\n",
    ")"
   ]
  },
  {
   "cell_type": "markdown",
   "id": "f16db20f",
   "metadata": {},
   "source": [
    "The following detects the type of the menu (overlay/fullscreen), its number\n",
    "of pages, and extracts its content."
   ]
  },
  {
   "cell_type": "code",
   "execution_count": null,
   "id": "0f93190f",
   "metadata": {},
   "outputs": [],
   "source": [
    "from collections import namedtuple\n",
    "GUIRawMenu = namedtuple('GUIRawMenu', 'n_pages,n_page,is_overlay,data')\n",
    "\n",
    "def menu_extract(lines):\n",
    "    col, row, match = 80, 0, None\n",
    "\n",
    "    # detect menu box\n",
    "    matches = map(rx_menu_is_overlay.search, lines)\n",
    "    for rr, m in enumerate(matches):\n",
    "        if m is None:\n",
    "            continue\n",
    "\n",
    "        beg, end = m.span()\n",
    "        if beg <= col:\n",
    "            col, row, match = beg, rr, m\n",
    "\n",
    "    # extract the menu and the pagination\n",
    "    if match is None:\n",
    "        return None\n",
    "\n",
    "    is_overlay = False\n",
    "    content = tuple([ll[col:].rstrip() for ll in lines[:row]])\n",
    "    n_page, n_pages = match.group('cur', 'tot')\n",
    "    if n_pages is None:\n",
    "        n_page, n_pages, is_overlay = 1, 1, True\n",
    "\n",
    "    return GUIRawMenu(\n",
    "        int(n_pages),\n",
    "        int(n_page),\n",
    "        is_overlay,\n",
    "        content,\n",
    "    )"
   ]
  },
  {
   "cell_type": "markdown",
   "id": "6476747a",
   "metadata": {},
   "source": [
    "The following function extracts raw data from a menu and enumerates all\n",
    "items, which can be interacted with."
   ]
  },
  {
   "cell_type": "code",
   "execution_count": null,
   "id": "9e7e4aaa",
   "metadata": {},
   "outputs": [],
   "source": [
    "GUIMenu = namedtuple('GUIMenu', 'n_pages_left,items,letters')\n",
    "\n",
    "def menu_parse(obs):\n",
    "    tty_lines = obs['tty_chars'].view('S80')[:, 0]\n",
    "\n",
    "    # Assume a menu is on the screen. Detect which one (single,\n",
    "    # multi), (letters if interactive) and extract its content.\n",
    "    menu = menu_extract([ll.decode('ascii') for ll in tty_lines])\n",
    "    if menu is None:\n",
    "        return None\n",
    "\n",
    "    # extract menu items\n",
    "    items, letters = [], {}\n",
    "    for entry in menu.data:\n",
    "        m = rx_menu_item.match(entry)\n",
    "        if m is not None:\n",
    "            lt, it = m.group('letter', 'item')\n",
    "            items.append(it)\n",
    "            if lt is not None:\n",
    "                letters[lt] = it\n",
    "\n",
    "    # return the parsed menu\n",
    "    return GUIMenu(\n",
    "        # number of additional pages\n",
    "        menu.n_pages - menu.n_page,\n",
    "        # the line-by-line content of the menu\n",
    "        items,\n",
    "        # which items can be interacted with\n",
    "        letters,\n",
    "    )"
   ]
  },
  {
   "cell_type": "markdown",
   "id": "3bef01f8",
   "metadata": {},
   "source": [
    "## Top Line Messages\n",
    "\n",
    "The game reports events, displays status or information in the top two lines\n",
    "of the screen. The NLE also provides the raw data in the `message` field of\n",
    "the observation. When NetHack generally announces in the top line, however,\n",
    "if it wants to communicate a single message longer than `80` characters, the\n",
    "game allows it to spill over to the second line, appending a `--More--` suffix\n",
    "to it. The game does the same if it has several short messages to announce.\n",
    "In both cases NetHack's gui expects the user to confirm or dismiss each message\n",
    "by pressing Space, Enter or Escape."
   ]
  },
  {
   "cell_type": "markdown",
   "id": "e2683d8d",
   "metadata": {},
   "source": [
    "Some helper functions to fetch and detect multi-part messages."
   ]
  },
  {
   "cell_type": "code",
   "execution_count": null,
   "id": "0ccc98e9",
   "metadata": {},
   "outputs": [],
   "source": [
    "def fetch_message(obs, *, top=False):\n",
    "    if top:\n",
    "        # padded with whitespace on the right\n",
    "        message = bytes(obs['tty_chars'][:2])\n",
    "    else:\n",
    "        # has trailing zero bytes\n",
    "        message = bytes(obs['message'].view('S256')[0])\n",
    "\n",
    "    return message.rstrip().decode('ascii')\n",
    "\n",
    "def has_more_messages(obs):\n",
    "    # get the top line from tty-chars\n",
    "    # XXX `Misc(*obs['misc']).xwaitingforspace` reacts to menus as well,\n",
    "    #  bu we want pure multi-part messages.\n",
    "    return '--More--' in fetch_message(obs, top=True)"
   ]
  },
  {
   "cell_type": "markdown",
   "id": "4ab5ecd9",
   "metadata": {},
   "source": [
    "<br>"
   ]
  },
  {
   "cell_type": "markdown",
   "id": "e9dd543d",
   "metadata": {},
   "source": [
    "## Putting it all together"
   ]
  },
  {
   "cell_type": "markdown",
   "id": "3d3fbf51",
   "metadata": {},
   "source": [
    "Below is a wrapper, which handles menus (unless an interaction is required) and\n",
    "fetches all consecutive messages."
   ]
  },
  {
   "cell_type": "code",
   "execution_count": null,
   "id": "80baef34",
   "metadata": {},
   "outputs": [],
   "source": [
    "from gym import Wrapper\n",
    "\n",
    "class Chassis(Wrapper):\n",
    "    \"\"\"Handle multi-part messages, yes-no-s, and other gui events, which\n",
    "    were not deliberately requested by downstream policies.\n",
    "    \"\"\"\n",
    "    def __init__(self, env, *, top=False):\n",
    "        super().__init__(env)\n",
    "        self.top = top\n",
    "\n",
    "    def reset(self):\n",
    "        obs, rew, done, info = self.fetch(self.env.reset(), 0., False, None)\n",
    "        return obs\n",
    "\n",
    "    def step(self, action):\n",
    "        return self.fetch(*self.env.step(action))\n",
    "\n",
    "    def fetch(self, *tx):\n",
    "        # first we detect and parse menus, since messages cannot\n",
    "        # appear when they are active\n",
    "        tx = self.fetch_menus(*tx)\n",
    "        tx = self.fetch_messages(*tx)\n",
    "        return tx\n",
    "\n",
    "    def fetch_messages(self, obs, rew=0., done=False, info=None):\n",
    "        buffer = []\n",
    "        while has_more_messages(obs) and not done:\n",
    "            # inside this loop the message CANNOT be empty by design\n",
    "            buffer.append(fetch_message(obs, top=self.top))\n",
    "            obs, rew, done, info = self.env.step(' ')  # send SPACE\n",
    "\n",
    "        # the final message may be empty so we сheck for it\n",
    "        message = fetch_message(obs, top=self.top)\n",
    "        if message:\n",
    "            buffer.append(message)\n",
    "        self.messages = tuple(buffer)\n",
    "\n",
    "        # XXX obs['message'] contains the last message\n",
    "        return obs, rew, done, info\n",
    "\n",
    "    def fetch_menus(self, obs, rew=0., done=False, info=None):\n",
    "        \"\"\"Handle single and multi-page interactive and static menus.\n",
    "        \"\"\"\n",
    "        page = menu_parse(obs)\n",
    "        if page is not None:\n",
    "            # parse menus and collect all their data unless interactive\n",
    "            pages = []\n",
    "            while not page.letters and page.n_pages_left > 0:\n",
    "                pages.append(page)\n",
    "                obs, rew, done, info = self.env.step(' ')  # send SPACE\n",
    "                page = menu_parse(obs)\n",
    "\n",
    "            pages.append(page)\n",
    "            if not page.letters:\n",
    "                obs, rew, done, info = self.env.step(' ')  # send SPACE\n",
    "\n",
    "            # join the pages collected so far\n",
    "            self.menu = GUIMenu(\n",
    "                page.n_pages_left,\n",
    "                tuple([it for page in pages for it in page.items]),\n",
    "                page.letters,\n",
    "            )\n",
    "\n",
    "        else:\n",
    "            self.menu = None\n",
    "\n",
    "        # XXX we'd better listen to special character action when\n",
    "        #  dealing with interactive menus.\n",
    "        return obs, rew, done, info"
   ]
  },
  {
   "cell_type": "markdown",
   "id": "6a3a6aaf",
   "metadata": {},
   "source": [
    "<br>"
   ]
  },
  {
   "cell_type": "markdown",
   "id": "9687f70f",
   "metadata": {},
   "source": [
    "## Testing"
   ]
  },
  {
   "cell_type": "markdown",
   "id": "aabe4efa",
   "metadata": {},
   "source": [
    "Let's test it in bulk."
   ]
  },
  {
   "cell_type": "code",
   "execution_count": null,
   "id": "726da82d",
   "metadata": {
    "scrolled": false
   },
   "outputs": [],
   "source": [
    "seed = 12513325507677477210, 18325590921330101247  # multi\n",
    "# seed = 1251332550767747710, 18325590921330101247  # single\n",
    "seed = 125133255076774710, 18325590921330101247  # single\n",
    "# seed = 13765371332493407478, 12246923801353953927\n",
    "seed = 12604736832047991440, 12469632217503715839\n",
    "# seed = None\n",
    "\n",
    "\n",
    "with Chassis(factory(), top=False) as env:\n",
    "    seed = env.seed(seed)\n",
    "\n",
    "    menus = []\n",
    "    for obs in gui_run(\n",
    "        env,\n",
    "        '',\n",
    "#         '\\033;j.',\n",
    "#         '\\033;h.',\n",
    "        '\\033;lllll.',\n",
    "#         '\\033#help\\015j ',\n",
    "#         '\\033#help\\015j  ',\n",
    "#         '\\033i',\n",
    "#         '\\033#enhance\\015',\n",
    "#         '\\033e*\\033',\n",
    "        '\\033D,\\015',\n",
    "    ):\n",
    "        menus.append(menu_parse(obs))"
   ]
  },
  {
   "cell_type": "code",
   "execution_count": null,
   "id": "3386e368",
   "metadata": {},
   "outputs": [],
   "source": [
    "seed"
   ]
  },
  {
   "cell_type": "code",
   "execution_count": null,
   "id": "ebc98b53",
   "metadata": {},
   "outputs": [],
   "source": [
    "env.messages"
   ]
  },
  {
   "cell_type": "code",
   "execution_count": null,
   "id": "314d1f69",
   "metadata": {},
   "outputs": [],
   "source": [
    "env.menu.items if env.menu is not None else None"
   ]
  },
  {
   "cell_type": "code",
   "execution_count": null,
   "id": "8c984e67",
   "metadata": {},
   "outputs": [],
   "source": [
    "env.menu.letters if env.menu is not None else None"
   ]
  },
  {
   "cell_type": "code",
   "execution_count": null,
   "id": "86e0b397",
   "metadata": {
    "scrolled": false
   },
   "outputs": [],
   "source": [
    "obs['tty_chars'].view('S80')[:, 0]"
   ]
  },
  {
   "cell_type": "raw",
   "id": "71333eee",
   "metadata": {},
   "source": [
    "import pdb;pdb.pm()"
   ]
  },
  {
   "cell_type": "code",
   "execution_count": null,
   "id": "b016db7e",
   "metadata": {},
   "outputs": [],
   "source": [
    "assert False"
   ]
  }
 ],
 "metadata": {
  "kernelspec": {
   "display_name": "Python 3 (ipykernel)",
   "language": "python",
   "name": "python3"
  },
  "language_info": {
   "codemirror_mode": {
    "name": "ipython",
    "version": 3
   },
   "file_extension": ".py",
   "mimetype": "text/x-python",
   "name": "python",
   "nbconvert_exporter": "python",
   "pygments_lexer": "ipython3",
   "version": "3.9.7"
  }
 },
 "nbformat": 4,
 "nbformat_minor": 5
}
