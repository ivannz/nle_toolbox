{
 "cells": [
  {
   "cell_type": "markdown",
   "id": "3754d465",
   "metadata": {},
   "source": [
    "# A tiny bot for NLE"
   ]
  },
  {
   "cell_type": "code",
   "execution_count": 1,
   "id": "498b64c9",
   "metadata": {},
   "outputs": [],
   "source": [
    "import torch\n",
    "import numpy\n",
    "\n",
    "import matplotlib.pyplot as plt\n",
    "\n",
    "import gym\n",
    "import nle"
   ]
  },
  {
   "cell_type": "markdown",
   "id": "34b1082a",
   "metadata": {},
   "source": [
    "<br>"
   ]
  },
  {
   "cell_type": "markdown",
   "id": "416e42f9",
   "metadata": {},
   "source": [
    "## Understanding the actions"
   ]
  },
  {
   "cell_type": "markdown",
   "id": "56ec18ec",
   "metadata": {},
   "source": [
    "Collect the action info by using the `&` command."
   ]
  },
  {
   "cell_type": "code",
   "execution_count": 2,
   "id": "37120a97",
   "metadata": {},
   "outputs": [],
   "source": [
    "with gym.make(\"NetHackChallenge-v0\") as env:\n",
    "    obs = env.reset()\n",
    "    env.step(92)  # &\n",
    "    env.step(19)  # \\015 ENTER\n",
    "\n",
    "    info = {}\n",
    "    for j, a in enumerate(env.unwrapped._actions):\n",
    "        obs, *_ = env.step(j)\n",
    "        info[j] = int(a), a.__class__.__name__, a._name_, obs['message'].view('S256')[0].decode('utf8')\n",
    "        while b'--More--' in bytes(obs['tty_chars']):\n",
    "            env.step(36)  #\\033 ESC \n",
    "        env.step(92)"
   ]
  },
  {
   "cell_type": "markdown",
   "id": "c586866c",
   "metadata": {},
   "source": [
    "Read the command help from the nle's docs."
   ]
  },
  {
   "cell_type": "code",
   "execution_count": 3,
   "id": "72a10958",
   "metadata": {},
   "outputs": [],
   "source": [
    "cmdhelp = {}\n",
    "with open('/Users/ivannazarov/Github/repos_with_rl/nle/dat/cmdhelp', 'tr') as fin:\n",
    "    for line in fin:\n",
    "        key, tab, val = line.strip().partition('\\t')\n",
    "        if not tab:\n",
    "            continue\n",
    "        \n",
    "        cmdhelp[key] = val"
   ]
  },
  {
   "cell_type": "markdown",
   "id": "c057519d",
   "metadata": {},
   "source": [
    "The following actions will wither be emulated or totally unused by the agent."
   ]
  },
  {
   "cell_type": "code",
   "execution_count": 4,
   "id": "fc1a61c6",
   "metadata": {},
   "outputs": [],
   "source": [
    "unused_actions = {\n",
    "# long actions skip too much game ticks!\n",
    "      8,  # CompassDirectionLonger.N      75\n",
    "      9,  # CompassDirectionLonger.E      76\n",
    "     10,  # CompassDirectionLonger.S      74\n",
    "     11,  # CompassDirectionLonger.W      72\n",
    "     12,  # CompassDirectionLonger.NE     85\n",
    "     13,  # CompassDirectionLonger.SE     78\n",
    "     14,  # CompassDirectionLonger.SW     66\n",
    "     15,  # CompassDirectionLonger.NW     89\n",
    "\n",
    "# list of extendend commands\n",
    "     21,  # Command.EXTLIST               191\n",
    "\n",
    "# adjust inventory letters\n",
    "     22,  # Command.ADJUST                225\n",
    "\n",
    "# annotate a location on the map\n",
    "     23,  # Command.ANNOTATE              193\n",
    "     27,  # Command.CALL                  67\n",
    "\n",
    "# inspect char's attributes\n",
    "     25,  # Command.ATTRIBUTES            24\n",
    "     76,  # Command.SEEALL                42\n",
    "     59,  # Command.OVERVIEW              15\n",
    "\n",
    "     26,  # Command.AUTOPICKUP            64\n",
    "     31,  # Command.CONDUCT               195\n",
    "     34,  # Command.DROPTYPE              68\n",
    "     37,  # Command.ENGRAVE               69\n",
    "     42,  # Command.GLANCE                59\n",
    "     81,  # Command.TAKEOFFALL            65\n",
    "\n",
    "# inventory is given to us\n",
    "     44,  # Command.INVENTORY             105\n",
    "     45,  # Command.INVENTTYPE            73\n",
    "\n",
    "# we don't care about the logs\n",
    "     49,  # Command.KNOWN                 92\n",
    "     50,  # Command.KNOWNCLASS            96\n",
    "\n",
    "# look us emulated through inventory probing\n",
    "     51,  # Command.LOOK                  58\n",
    "\n",
    "# some unclear navigation actions\n",
    "     54,  # Command.MOVE                  109\n",
    "     55,  # Command.MOVEFAR               77\n",
    "     72,  # Command.RUSH                  103\n",
    "     73,  # Command.RUSH2                 71\n",
    "     85,  # Command.TRAVEL                95\n",
    "\n",
    "# misc, developer\n",
    "     89,  # Command.VERSION               246\n",
    "     90,  # Command.VERSIONSHORT          118\n",
    "     43,  # Command.HISTORY               86\n",
    "     74,  # Command.SAVE                  83\n",
    "     65,  # Command.QUIT                  241\n",
    "     68,  # Command.REDRAW                18\n",
    "     58,  # Command.OPTIONS               79\n",
    "\n",
    "# command help\n",
    "     92,  # Command.WHATDOES              38\n",
    "     93,  # Command.WHATIS                47\n",
    "\n",
    "# unknown\n",
    "    100,  # TextCharacters.APOS           39\n",
    "     99,  # TextCharacters.SPACE          20\n",
    "     98,  # TextCharacters.MINUS          45\n",
    "    102,  # TextCharacters.NUM_0          48\n",
    "    103,  # TextCharacters.NUM_1          49\n",
    "    104,  # TextCharacters.NUM_2          50\n",
    "    105,  # TextCharacters.NUM_3          51\n",
    "    106,  # TextCharacters.NUM_4          52\n",
    "    107,  # TextCharacters.NUM_5          53\n",
    "    108,  # TextCharacters.NUM_6          54\n",
    "    109,  # TextCharacters.NUM_7          55\n",
    "    110,  # TextCharacters.NUM_8          56\n",
    "    111,  # TextCharacters.NUM_9          57\n",
    "\n",
    "# can read the vloume of the purse from `blstats`.gold\n",
    "    112,  # TextCharacters.DOLLAR         36\n",
    "\n",
    "# these might possibly be useful\n",
    "     47,  # Command.JUMP                  234\n",
    "     70,  # Command.RIDE                  210  // mount or dismount a saddled steed.\n",
    "     71,  # Command.RUB                   242  // Rub a lamp or a touchstone\n",
    "     53,  # Command.MONSTER               237  // When polymorphed, use a monster's special ability\n",
    "     60,  # Command.PAY                   112  // Pay your shopping bill\n",
    "}"
   ]
  },
  {
   "cell_type": "markdown",
   "id": "7ad3819f",
   "metadata": {},
   "source": [
    "A neat table with oct, hex and descriptions"
   ]
  },
  {
   "cell_type": "code",
   "execution_count": 5,
   "id": "461f7f0b",
   "metadata": {
    "scrolled": false
   },
   "outputs": [
    {
     "name": "stdout",
     "output_type": "stream",
     "text": [
      "   0  CompassDirection.N            153   6B   k  k       move north (screen up).\n",
      "   1  CompassDirection.E            154   6C   l  l       move east (screen right).\n",
      "   2  CompassDirection.S            152   6A   j  j       move south (screen down).\n",
      "   3  CompassDirection.W            150   68   h  h       move west (screen left).\n",
      "   4  CompassDirection.NE           165   75   u  u       move northeast (screen upper right).\n",
      "   5  CompassDirection.SE           156   6E   n  n       move southeast (screen lower right).\n",
      "   6  CompassDirection.SW           142   62   b  b       move southwest (screen lower left).\n",
      "   7  CompassDirection.NW           171   79   y  y       move northwest (screen upper left).\n",
      "  16  MiscDirection.UP              074   3C   <  <       go up a staircase.\n",
      "  17  MiscDirection.DOWN            076   3E   >  >       go down a staircase.\n",
      "  18  MiscDirection.WAIT            056   2E   .  .       rest one move while doing nothing.\n",
      "  19  MiscAction.MORE               015   0D   .  None\n",
      "  20  Command.EXTCMD                043   23   #  #       perform an extended command.\n",
      "  24  Command.APPLY                 141   61   a  a       apply (use) a tool (pick-axe, key, lamp...).\n",
      "  28  Command.CAST                  132   5A   Z  Z       zap (cast) a spell.\n",
      "  29  Command.CHAT                  343   E3   ã  M-c     talk to someone.\n",
      "  30  Command.CLOSE                 143   63   c  c       close a door.\n",
      "  32  Command.DIP                   344   E4   ä  M-d     dip an object into something.\n",
      "  33  Command.DROP                  144   64   d  d       drop an item.\n",
      "  35  Command.EAT                   145   65   e  e       eat something.\n",
      "  36  Command.ESC                   033   1B   .  None\n",
      "  38  Command.ENHANCE               345   E5   å  M-e     advance or check weapon and spell skills.\n",
      "  39  Command.FIRE                  146   66   f  f       fire ammunition from quiver.\n",
      "  40  Command.FIGHT                 106   46   F  Followed by direction, fight a monster (even if you don't sense it)\n",
      "  41  Command.FORCE                 346   E6   æ  M-f     force a lock.\n",
      "  46  Command.INVOKE                351   E9   é  M-i     invoke an object's special powers.\n",
      "  48  Command.KICK                  004   04   .  ^D      kick something.\n",
      "  52  Command.LOOT                  354   EC   ì  M-l     loot a box on the floor.\n",
      "  56  Command.OFFER                 357   EF   ï  M-o     offer a sacrifice to the gods.\n",
      "  57  Command.OPEN                  157   6F   o  o       open a door.\n",
      "  61  Command.PICKUP                054   2C   ,  ,       pick up things at the current location.\n",
      "  62  Command.PRAY                  360   F0   ð  M-p     pray to the gods for help.\n",
      "  63  Command.PUTON                 120   50   P  P       put on an accessory (ring, amulet, etc).\n",
      "  64  Command.QUAFF                 161   71   q  q       quaff (drink) something.\n",
      "  66  Command.QUIVER                121   51   Q  Q       select ammunition for quiver.\n",
      "  67  Command.READ                  162   72   r  r       read a scroll or spellbook.\n",
      "  69  Command.REMOVE                122   52   R  R       remove an accessory (ring, amulet, etc).\n",
      "  75  Command.SEARCH                163   73   s  s       search for traps and secret doors.\n",
      "  77  Command.SEETRAP               136   5E   ^  ^       show the type of adjacent trap.\n",
      "  78  Command.SIT                   363   F3   ó  M-s     sit down.\n",
      "  79  Command.SWAP                  170   78   x  x       swap wielded and secondary weapons.\n",
      "  80  Command.TAKEOFF               124   54   T  T       take off one piece of armor.\n",
      "  82  Command.TELEPORT              024   14   .  ^T      teleport around the level.\n",
      "  83  Command.THROW                 164   74   t  t       throw something.\n",
      "  84  Command.TIP                   324   D4   Ô  M-T     empty a container.\n",
      "  86  Command.TURN                  364   F4   ô  M-t     turn undead away.\n",
      "  87  Command.TWOWEAPON             130   58   X  X       toggle two-weapon combat.\n",
      "  88  Command.UNTRAP                365   F5   õ  M-u     untrap something.\n",
      "  91  Command.WEAR                  127   57   W  W       wear a piece of armor.\n",
      "  94  Command.WIELD                 167   77   w  w       wield (put in use) a weapon.\n",
      "  95  Command.WIPE                  367   F7   ÷  M-w     wipe off your face.\n",
      "  96  Command.ZAP                   172   7A   z  z       zap a wand.\n",
      "  97  TextCharacters.PLUS           053   2B   +  +       list and reorder known spells.\n",
      " 101  TextCharacters.QUOTE          042   22   \"  \"       show the amulet currently worn.\n"
     ]
    }
   ],
   "source": [
    "for j, (a, c, f, m) in info.items():\n",
    "    if j in unused_actions:\n",
    "        continue\n",
    "    if m.startswith('No such command'):\n",
    "        m = cmdhelp.get(chr(a))\n",
    "    print(f\"{j:>4d}  {c+'.'+f:28s}  {a:>03o}   {a:>02X}  {a if a > 32 else 46:>2c}  {m}\")"
   ]
  },
  {
   "cell_type": "markdown",
   "id": "5ef54f72",
   "metadata": {},
   "source": [
    "<br>"
   ]
  },
  {
   "cell_type": "markdown",
   "id": "aecbe303",
   "metadata": {},
   "source": [
    "Import level patching and options from `minihack`"
   ]
  },
  {
   "cell_type": "code",
   "execution_count": 6,
   "id": "01d9457b",
   "metadata": {},
   "outputs": [],
   "source": [
    "import minihack\n",
    "import minihack.envs.fightcorridor\n",
    "\n",
    "from minihack.base import MiniHack, MH_NETHACKOPTIONS\n",
    "\n",
    "from minihack.level_generator import LevelGenerator\n",
    "\n",
    "lvl_gen = LevelGenerator(\n",
    "    map=\"\"\"\n",
    "-----       ----------------------\n",
    "|....#######.....................|\n",
    "-----       ----------------------\n",
    "\"\"\",\n",
    "    lit=True,\n",
    ")\n",
    "lvl_gen.set_start_rect((1, 1), (3, 1))\n",
    "# lvl_gen.add_monster(name=\"giant rat\", place=(30, 1))\n",
    "# lvl_gen.add_monster(name=\"giant rat\", place=(29, 1))\n",
    "lvl_gen.add_goal_pos((32, 1))\n",
    "\n"
   ]
  },
  {
   "cell_type": "markdown",
   "id": "42c84d6e",
   "metadata": {},
   "source": [
    "<br>"
   ]
  },
  {
   "cell_type": "markdown",
   "id": "ceeea280",
   "metadata": {},
   "source": [
    "Some observation preprocessing"
   ]
  },
  {
   "cell_type": "code",
   "execution_count": 7,
   "id": "602e3893",
   "metadata": {},
   "outputs": [],
   "source": [
    "from nle_toolbox.utils.env.defs import BLStats",
    "from nle_toolbox.utils.env.obs import uint8_to_str",
   ]
  },
  {
   "cell_type": "markdown",
   "id": "4e6323d2",
   "metadata": {},
   "source": [
    "A renderer"
   ]
  },
  {
   "cell_type": "code",
   "execution_count": 8,
   "id": "95058280",
   "metadata": {},
   "outputs": [],
   "source": [
    "from io import StringIO\n",
    "from IPython.display import clear_output\n",
    "from contextlib import redirect_stdout\n",
    "\n",
    "def render(env, obs):\n",
    "    blstats = BLStats(*obs['blstats'])\n",
    "\n",
    "    with redirect_stdout(StringIO()) as f:\n",
    "        env.render('human')\n",
    "\n",
    "    screen = f.getvalue()\n",
    "    screen += \"\\n\" + (b''.join(obs['inv_letters'].view('c'))).decode()\n",
    "    \n",
    "    screen += f\"\\ntime: {blstats.time:04d}\"\n",
    "    screen += \"\\n\" + str(obs['message'].view('S256')[0])\n",
    "\n",
    "    screen += \"\\n\" + str(obs['glyphs'][blstats.y-2:blstats.y+3, blstats.x-2:blstats.x+3,])\n",
    "\n",
    "    clear_output(wait=False)\n",
    "    print(screen)\n",
    "    return True"
   ]
  },
  {
   "cell_type": "markdown",
   "id": "a3c6d08a",
   "metadata": {},
   "source": [
    "Actors"
   ]
  },
  {
   "cell_type": "code",
   "execution_count": 9,
   "id": "b483c16b",
   "metadata": {},
   "outputs": [],
   "source": [
    "class HumanActor:\n",
    "    def override(self, obs):\n",
    "        return False\n",
    "\n",
    "    # human control\n",
    "    def reset(self, obs):\n",
    "        pass\n",
    "\n",
    "    def step(self, obs):\n",
    "        input = bytes(__builtins__.input('> '), 'utf8')\n",
    "        yield from map(ord, input.decode('unicode-escape'))"
   ]
  },
  {
   "cell_type": "markdown",
   "id": "6ed68e6d",
   "metadata": {},
   "source": [
    "Gather actions"
   ]
  },
  {
   "cell_type": "code",
   "execution_count": 10,
   "id": "e1b0476f",
   "metadata": {},
   "outputs": [],
   "source": [
    "import re\n",
    "\n",
    "from collections import deque\n",
    "from nle.nethack.actions import Command, MiscAction\n",
    "\n",
    "\n",
    "class Skeleton:\n",
    "    re_ynq = re.compile(br\".*\\?\\s+\\[[ynaq\\d]{2,}\\]\", re.I)  # detect YN questions\n",
    "    def __init__(self, brain, *, auto_more=True, auto_yesman=False):\n",
    "        self.brain, self.queue = brain, deque()\n",
    "        self.auto_more, self.auto_yesman = auto_more, auto_yesman\n",
    "\n",
    "    def reset(self, obs):\n",
    "        self.brain.reset(obs)\n",
    "        self.queue.clear()\n",
    "\n",
    "    def step(self, obs):\n",
    "        # 1. automatic gui-related actions\n",
    "        # skip partial info messages in the tty (`--More--`)\n",
    "        # XXX `ESC` skips all messages, `ENTER` goes through them one-by-one\n",
    "        if self.auto_more and b'--More--' in bytes(obs['tty_chars']):\n",
    "            return Command.ESC  # MiscAction.MORE\n",
    "        \n",
    "        # 1.5 eternal internal `yes-man`: agree to every action we take\n",
    "        if self.auto_yesman and self.re_ynq.match(bytes(obs['message'])):\n",
    "            return ord('y')\n",
    "\n",
    "        # 2. open/closed loop control. Prompt only if we are out of\n",
    "        #  scheduled actions.\n",
    "        if self.brain.override(obs):\n",
    "            self.queue.clear()\n",
    "\n",
    "        if not self.queue:\n",
    "            # closed loop control: the brain tells us what to do next\n",
    "            self.queue.extend(self.brain.step(obs))\n",
    "\n",
    "        # open loop policy: execute pre-scheduled actions\n",
    "        if self.queue:\n",
    "            return self.queue.popleft()\n",
    "\n",
    "        # just wait\n",
    "        return ord('.')"
   ]
  },
  {
   "cell_type": "markdown",
   "id": "5960a0ab",
   "metadata": {},
   "source": [
    "Seed"
   ]
  },
  {
   "cell_type": "code",
   "execution_count": 11,
   "id": "b7efede0",
   "metadata": {
    "scrolled": true
   },
   "outputs": [
    {
     "data": {
      "text/plain": [
       "(12587170189557361100, 992822559630912802)"
      ]
     },
     "execution_count": 11,
     "metadata": {},
     "output_type": "execute_result"
    }
   ],
   "source": [
    "from nle_toolbox.utils.play.wrapper import Replay\n",
    "\n",
    "env = Replay(gym.make(\"NetHackChallenge-v0\"))  #, options=MH_NETHACKOPTIONS))\n",
    "# MiniHack._patch_nhdat(env.unwrapped, lvl_gen.get_des())\n",
    "env.seed(123)"
   ]
  },
  {
   "cell_type": "markdown",
   "id": "cf87202b",
   "metadata": {},
   "source": [
    "play\n",
    "* `#pray\\x0dy` -- pray to a diety and then die\n",
    "* `#quit\\015y` -- quit the game\n",
    "* `DA\\x0djlkh,,\\x0d` -- drop all, walk a circle, pick up all"
   ]
  },
  {
   "cell_type": "code",
   "execution_count": 12,
   "id": "fadf58e4",
   "metadata": {},
   "outputs": [
    {
     "name": "stdout",
     "output_type": "stream",
     "text": [
      "\n",
      "\u001b[0;37mH\u001b[0;37me\u001b[0;37ml\u001b[0;37ml\u001b[0;37mo\u001b[0;30m \u001b[0;37mA\u001b[0;37mg\u001b[0;37me\u001b[0;37mn\u001b[0;37mt\u001b[0;37m,\u001b[0;30m \u001b[0;37mw\u001b[0;37me\u001b[0;37ml\u001b[0;37mc\u001b[0;37mo\u001b[0;37mm\u001b[0;37me\u001b[0;30m \u001b[0;37mt\u001b[0;37mo\u001b[0;30m \u001b[0;37mN\u001b[0;37me\u001b[0;37mt\u001b[0;37mH\u001b[0;37ma\u001b[0;37mc\u001b[0;37mk\u001b[0;37m!\u001b[0;30m \u001b[0;30m \u001b[0;37mY\u001b[0;37mo\u001b[0;37mu\u001b[0;30m \u001b[0;37ma\u001b[0;37mr\u001b[0;37me\u001b[0;30m \u001b[0;37ma\u001b[0;30m \u001b[0;37ml\u001b[0;37ma\u001b[0;37mw\u001b[0;37mf\u001b[0;37mu\u001b[0;37ml\u001b[0;30m \u001b[0;37md\u001b[0;37mw\u001b[0;37ma\u001b[0;37mr\u001b[0;37mv\u001b[0;37me\u001b[0;37mn\u001b[0;30m \u001b[0;37mC\u001b[0;37ma\u001b[0;37mv\u001b[0;37me\u001b[0;37mw\u001b[0;37mo\u001b[0;37mm\u001b[0;37ma\u001b[0;37mn\u001b[0;37m.\u001b[0;30m \u001b[0;30m \u001b[0;30m \u001b[0;30m \u001b[0;30m \u001b[0;30m \u001b[0;30m \u001b[0;30m \u001b[0;30m \u001b[0;30m \u001b[0;30m \n",
      "\u001b[0;30m \u001b[0;30m \u001b[0;30m \u001b[0;30m \u001b[0;30m \u001b[0;30m \u001b[0;30m \u001b[0;30m \u001b[0;30m \u001b[0;30m \u001b[0;30m \u001b[0;30m \u001b[0;30m \u001b[0;30m \u001b[0;30m \u001b[0;30m \u001b[0;30m \u001b[0;30m \u001b[0;30m \u001b[0;30m \u001b[0;30m \u001b[0;30m \u001b[0;30m \u001b[0;30m \u001b[0;30m \u001b[0;30m \u001b[0;30m \u001b[0;30m \u001b[0;30m \u001b[0;30m \u001b[0;30m \u001b[0;30m \u001b[0;30m \u001b[0;30m \u001b[0;30m \u001b[0;30m \u001b[0;30m \u001b[0;30m \u001b[0;30m \u001b[0;30m \u001b[0;30m \u001b[0;30m \u001b[0;30m \u001b[0;30m \u001b[0;30m \u001b[0;30m \u001b[0;30m \u001b[0;30m \u001b[0;30m \u001b[0;30m \u001b[0;30m \u001b[0;30m \u001b[0;30m \u001b[0;30m \u001b[0;30m \u001b[0;30m \u001b[0;30m \u001b[0;30m \u001b[0;30m \u001b[0;30m \u001b[0;30m \u001b[0;30m \u001b[0;30m \u001b[0;30m \u001b[0;30m \u001b[0;30m \u001b[0;30m \u001b[0;30m \u001b[0;30m \u001b[0;30m \u001b[0;30m \u001b[0;30m \u001b[0;30m \u001b[0;30m \u001b[0;30m \u001b[0;30m \u001b[0;30m \u001b[0;30m \u001b[0;30m \u001b[0;30m \n",
      "\u001b[0;30m \u001b[0;30m \u001b[0;30m \u001b[0;30m \u001b[0;30m \u001b[0;30m \u001b[0;30m \u001b[0;30m \u001b[0;30m \u001b[0;30m \u001b[0;30m \u001b[0;30m \u001b[0;30m \u001b[0;30m \u001b[0;30m \u001b[0;30m \u001b[0;30m \u001b[0;30m \u001b[0;30m \u001b[0;30m \u001b[0;30m \u001b[0;30m \u001b[0;30m \u001b[0;30m \u001b[0;30m \u001b[0;30m \u001b[0;30m \u001b[0;30m \u001b[0;30m \u001b[0;30m \u001b[0;30m \u001b[0;30m \u001b[0;30m \u001b[0;30m \u001b[0;30m \u001b[0;30m \u001b[0;30m \u001b[0;30m \u001b[0;30m \u001b[0;30m \u001b[0;30m \u001b[0;30m \u001b[0;30m \u001b[0;30m \u001b[0;30m \u001b[0;30m \u001b[0;30m \u001b[0;30m \u001b[0;30m \u001b[0;30m \u001b[0;30m \u001b[0;30m \u001b[0;30m \u001b[0;30m \u001b[0;30m \u001b[0;30m \u001b[0;30m \u001b[0;30m \u001b[0;30m \u001b[0;30m \u001b[0;30m \u001b[0;30m \u001b[0;30m \u001b[0;30m \u001b[0;30m \u001b[0;30m \u001b[0;30m \u001b[0;30m \u001b[0;30m \u001b[0;30m \u001b[0;30m \u001b[0;30m \u001b[0;30m \u001b[0;30m \u001b[0;30m \u001b[0;30m \u001b[0;30m \u001b[0;30m \u001b[0;30m \u001b[0;30m \n",
      "\u001b[0;30m \u001b[0;30m \u001b[0;30m \u001b[0;30m \u001b[0;30m \u001b[0;30m \u001b[0;30m \u001b[0;30m \u001b[0;30m \u001b[0;30m \u001b[0;30m \u001b[0;30m \u001b[0;30m \u001b[0;30m \u001b[0;30m \u001b[0;30m \u001b[0;30m \u001b[0;30m \u001b[0;30m \u001b[0;30m \u001b[0;30m \u001b[0;30m \u001b[0;30m \u001b[0;30m \u001b[0;30m \u001b[0;30m \u001b[0;30m \u001b[0;30m \u001b[0;30m \u001b[0;30m \u001b[0;30m \u001b[0;30m \u001b[0;30m \u001b[0;30m \u001b[0;30m \u001b[0;30m \u001b[0;30m \u001b[0;30m \u001b[0;30m \u001b[0;30m \u001b[0;30m \u001b[0;30m \u001b[0;30m \u001b[0;30m \u001b[0;30m \u001b[0;30m \u001b[0;30m \u001b[0;30m \u001b[0;30m \u001b[0;30m \u001b[0;30m \u001b[0;30m \u001b[0;30m \u001b[0;30m \u001b[0;30m \u001b[0;30m \u001b[0;30m \u001b[0;30m \u001b[0;30m \u001b[0;30m \u001b[0;30m \u001b[0;30m \u001b[0;30m \u001b[0;30m \u001b[0;30m \u001b[0;30m \u001b[0;30m \u001b[0;30m \u001b[0;30m \u001b[0;30m \u001b[0;30m \u001b[0;30m \u001b[0;30m \u001b[0;30m \u001b[0;30m \u001b[0;30m \u001b[0;30m \u001b[0;30m \u001b[0;30m \u001b[0;30m \n",
      "\u001b[0;30m \u001b[0;30m \u001b[0;30m \u001b[0;30m \u001b[0;30m \u001b[0;30m \u001b[0;30m \u001b[0;30m \u001b[0;30m \u001b[0;30m \u001b[0;30m \u001b[0;30m \u001b[0;30m \u001b[0;30m \u001b[0;30m \u001b[0;30m \u001b[0;30m \u001b[0;30m \u001b[0;30m \u001b[0;30m \u001b[0;30m \u001b[0;30m \u001b[0;30m \u001b[0;30m \u001b[0;30m \u001b[0;30m \u001b[0;30m \u001b[0;30m \u001b[0;30m \u001b[0;30m \u001b[0;30m \u001b[0;30m \u001b[0;30m \u001b[0;30m \u001b[0;30m \u001b[0;30m \u001b[0;30m \u001b[0;30m \u001b[0;30m \u001b[0;30m \u001b[0;30m \u001b[0;30m \u001b[0;30m \u001b[0;30m \u001b[0;30m \u001b[0;30m \u001b[0;30m \u001b[0;30m \u001b[0;30m \u001b[0;30m \u001b[0;30m \u001b[0;30m \u001b[0;30m \u001b[0;30m \u001b[0;30m \u001b[0;30m \u001b[0;30m \u001b[0;30m \u001b[0;30m \u001b[0;30m \u001b[0;30m \u001b[0;30m \u001b[0;30m \u001b[0;30m \u001b[0;30m \u001b[0;30m \u001b[0;30m \u001b[0;30m \u001b[0;30m \u001b[0;30m \u001b[0;30m \u001b[0;30m \u001b[0;30m \u001b[0;30m \u001b[0;30m \u001b[0;30m \u001b[0;30m \u001b[0;30m \u001b[0;30m \u001b[0;30m \n",
      "\u001b[0;30m \u001b[0;30m \u001b[0;30m \u001b[0;30m \u001b[0;30m \u001b[0;30m \u001b[0;30m \u001b[0;30m \u001b[0;30m \u001b[0;30m \u001b[0;30m \u001b[0;30m \u001b[0;30m \u001b[0;30m \u001b[0;30m \u001b[0;30m \u001b[0;30m \u001b[0;30m \u001b[0;30m \u001b[0;30m \u001b[0;30m \u001b[0;30m \u001b[0;30m \u001b[0;30m \u001b[0;30m \u001b[0;30m \u001b[0;30m \u001b[0;30m \u001b[0;30m \u001b[0;30m \u001b[0;30m \u001b[0;30m \u001b[0;30m \u001b[0;30m \u001b[0;30m \u001b[0;30m \u001b[0;30m \u001b[0;30m \u001b[0;30m \u001b[0;30m \u001b[0;30m \u001b[0;30m \u001b[0;30m \u001b[0;30m \u001b[0;30m \u001b[0;30m \u001b[0;30m \u001b[0;30m \u001b[0;30m \u001b[0;30m \u001b[0;30m \u001b[0;30m \u001b[0;30m \u001b[0;30m \u001b[0;30m \u001b[0;30m \u001b[0;30m \u001b[0;30m \u001b[0;30m \u001b[0;30m \u001b[0;30m \u001b[0;30m \u001b[0;30m \u001b[0;30m \u001b[0;30m \u001b[0;30m \u001b[0;30m \u001b[0;30m \u001b[0;30m \u001b[0;30m \u001b[0;30m \u001b[0;30m \u001b[0;30m \u001b[0;30m \u001b[0;30m \u001b[0;30m \u001b[0;30m \u001b[0;30m \u001b[0;30m \u001b[0;30m \n",
      "\u001b[0;30m \u001b[0;30m \u001b[0;30m \u001b[0;30m \u001b[0;30m \u001b[0;30m \u001b[0;30m \u001b[0;30m \u001b[0;30m \u001b[0;30m \u001b[0;30m \u001b[0;30m \u001b[0;30m \u001b[0;30m \u001b[0;30m \u001b[0;30m \u001b[0;30m \u001b[0;30m \u001b[0;30m \u001b[0;30m \u001b[0;30m \u001b[0;30m \u001b[0;30m \u001b[0;30m \u001b[0;30m \u001b[0;30m \u001b[0;30m \u001b[0;30m \u001b[0;30m \u001b[0;30m \u001b[0;30m \u001b[0;30m \u001b[0;30m \u001b[0;30m \u001b[0;30m \u001b[0;30m \u001b[0;30m \u001b[0;30m \u001b[0;30m \u001b[0;30m \u001b[0;30m \u001b[0;30m \u001b[0;30m \u001b[0;30m \u001b[0;30m \u001b[0;30m \u001b[0;30m \u001b[0;30m \u001b[0;30m \u001b[0;30m \u001b[0;30m \u001b[0;30m \u001b[0;30m \u001b[0;30m \u001b[0;30m \u001b[0;30m \u001b[0;30m \u001b[0;30m \u001b[0;30m \u001b[0;30m \u001b[0;30m \u001b[0;30m \u001b[0;30m \u001b[0;30m \u001b[0;30m \u001b[0;30m \u001b[0;30m \u001b[0;30m \u001b[0;30m \u001b[0;30m \u001b[0;30m \u001b[0;30m \u001b[0;30m \u001b[0;30m \u001b[0;30m \u001b[0;30m \u001b[0;30m \u001b[0;30m \u001b[0;30m \u001b[0;30m \n",
      "\u001b[0;30m \u001b[0;30m \u001b[0;30m \u001b[0;30m \u001b[0;30m \u001b[0;30m \u001b[0;30m \u001b[0;30m \u001b[0;30m \u001b[0;30m \u001b[0;30m \u001b[0;30m \u001b[0;30m \u001b[0;30m \u001b[0;30m \u001b[0;30m \u001b[0;30m \u001b[0;30m \u001b[0;30m \u001b[0;30m \u001b[0;30m \u001b[0;30m \u001b[0;30m \u001b[0;30m \u001b[0;30m \u001b[0;30m \u001b[0;30m \u001b[0;30m \u001b[0;30m \u001b[0;30m \u001b[0;30m \u001b[0;30m \u001b[0;30m \u001b[0;30m \u001b[0;30m \u001b[0;30m \u001b[0;30m \u001b[0;30m \u001b[0;30m \u001b[0;30m \u001b[0;30m \u001b[0;30m \u001b[0;37m-\u001b[0;37m-\u001b[0;37m-\u001b[0;37m-\u001b[0;37m-\u001b[0;37m-\u001b[0;37m-\u001b[0;37m-\u001b[0;30m \u001b[0;30m \u001b[0;30m \u001b[0;30m \u001b[0;30m \u001b[0;30m \u001b[0;30m \u001b[0;30m \u001b[0;30m \u001b[0;30m \u001b[0;30m \u001b[0;30m \u001b[0;30m \u001b[0;30m \u001b[0;30m \u001b[0;30m \u001b[0;30m \u001b[0;30m \u001b[0;30m \u001b[0;30m \u001b[0;30m \u001b[0;30m \u001b[0;30m \u001b[0;30m \u001b[0;30m \u001b[0;30m \u001b[0;30m \u001b[0;30m \u001b[0;30m \u001b[0;30m \n",
      "\u001b[0;30m \u001b[0;30m \u001b[0;30m \u001b[0;30m \u001b[0;30m \u001b[0;30m \u001b[0;30m \u001b[0;30m \u001b[0;30m \u001b[0;30m \u001b[0;30m \u001b[0;30m \u001b[0;30m \u001b[0;30m \u001b[0;30m \u001b[0;30m \u001b[0;30m \u001b[0;30m \u001b[0;30m \u001b[0;30m \u001b[0;30m \u001b[0;30m \u001b[0;30m \u001b[0;30m \u001b[0;30m \u001b[0;30m \u001b[0;30m \u001b[0;30m \u001b[0;30m \u001b[0;30m \u001b[0;30m \u001b[0;30m \u001b[0;30m \u001b[0;30m \u001b[0;30m \u001b[0;30m \u001b[0;30m \u001b[0;30m \u001b[0;30m \u001b[0;30m \u001b[0;30m \u001b[0;30m \u001b[0;37m.\u001b[0;37m.\u001b[0;37m.\u001b[0;37m.\u001b[1;37md\u001b[4m\u001b[1;37m@\u001b[0m\u001b[0;37m.\u001b[0;37m.\u001b[0;30m \u001b[0;30m \u001b[0;30m \u001b[0;30m \u001b[0;30m \u001b[0;30m \u001b[0;30m \u001b[0;30m \u001b[0;30m \u001b[0;30m \u001b[0;30m \u001b[0;30m \u001b[0;30m \u001b[0;30m \u001b[0;30m \u001b[0;30m \u001b[0;30m \u001b[0;30m \u001b[0;30m \u001b[0;30m \u001b[0;30m \u001b[0;30m \u001b[0;30m \u001b[0;30m \u001b[0;30m \u001b[0;30m \u001b[0;30m \u001b[0;30m \u001b[0;30m \u001b[0;30m \n",
      "\u001b[0;30m \u001b[0;30m \u001b[0;30m \u001b[0;30m \u001b[0;30m \u001b[0;30m \u001b[0;30m \u001b[0;30m \u001b[0;30m \u001b[0;30m \u001b[0;30m \u001b[0;30m \u001b[0;30m \u001b[0;30m \u001b[0;30m \u001b[0;30m \u001b[0;30m \u001b[0;30m \u001b[0;30m \u001b[0;30m \u001b[0;30m \u001b[0;30m \u001b[0;30m \u001b[0;30m \u001b[0;30m \u001b[0;30m \u001b[0;30m \u001b[0;30m \u001b[0;30m \u001b[0;30m \u001b[0;30m \u001b[0;30m \u001b[0;30m \u001b[0;30m \u001b[0;30m \u001b[0;30m \u001b[0;30m \u001b[0;30m \u001b[0;30m \u001b[0;30m \u001b[0;30m \u001b[0;30m \u001b[0;37m|\u001b[0;37m.\u001b[0;37m.\u001b[0;37m.\u001b[0;37m.\u001b[0;37m.\u001b[0;37m.\u001b[0;37m|\u001b[0;30m \u001b[0;30m \u001b[0;30m \u001b[0;30m \u001b[0;30m \u001b[0;30m \u001b[0;30m \u001b[0;30m \u001b[0;30m \u001b[0;30m \u001b[0;30m \u001b[0;30m \u001b[0;30m \u001b[0;30m \u001b[0;30m \u001b[0;30m \u001b[0;30m \u001b[0;30m \u001b[0;30m \u001b[0;30m \u001b[0;30m \u001b[0;30m \u001b[0;30m \u001b[0;30m \u001b[0;30m \u001b[0;30m \u001b[0;30m \u001b[0;30m \u001b[0;30m \u001b[0;30m \n",
      "\u001b[0;30m \u001b[0;30m \u001b[0;30m \u001b[0;30m \u001b[0;30m \u001b[0;30m \u001b[0;30m \u001b[0;30m \u001b[0;30m \u001b[0;30m \u001b[0;30m \u001b[0;30m \u001b[0;30m \u001b[0;30m \u001b[0;30m \u001b[0;30m \u001b[0;30m \u001b[0;30m \u001b[0;30m \u001b[0;30m \u001b[0;30m \u001b[0;30m \u001b[0;30m \u001b[0;30m \u001b[0;30m \u001b[0;30m \u001b[0;30m \u001b[0;30m \u001b[0;30m \u001b[0;30m \u001b[0;30m \u001b[0;30m \u001b[0;30m \u001b[0;30m \u001b[0;30m \u001b[0;30m \u001b[0;30m \u001b[0;30m \u001b[0;30m \u001b[0;30m \u001b[0;30m \u001b[0;30m \u001b[0;37m.\u001b[0;37m.\u001b[0;37m.\u001b[1;33m$\u001b[0;37m.\u001b[0;37m.\u001b[0;37m.\u001b[0;37m|\u001b[0;30m \u001b[0;30m \u001b[0;30m \u001b[0;30m \u001b[0;30m \u001b[0;30m \u001b[0;30m \u001b[0;30m \u001b[0;30m \u001b[0;30m \u001b[0;30m \u001b[0;30m \u001b[0;30m \u001b[0;30m \u001b[0;30m \u001b[0;30m \u001b[0;30m \u001b[0;30m \u001b[0;30m \u001b[0;30m \u001b[0;30m \u001b[0;30m \u001b[0;30m \u001b[0;30m \u001b[0;30m \u001b[0;30m \u001b[0;30m \u001b[0;30m \u001b[0;30m \u001b[0;30m \n",
      "\u001b[0;30m \u001b[0;30m \u001b[0;30m \u001b[0;30m \u001b[0;30m \u001b[0;30m \u001b[0;30m \u001b[0;30m \u001b[0;30m \u001b[0;30m \u001b[0;30m \u001b[0;30m \u001b[0;30m \u001b[0;30m \u001b[0;30m \u001b[0;30m \u001b[0;30m \u001b[0;30m \u001b[0;30m \u001b[0;30m \u001b[0;30m \u001b[0;30m \u001b[0;30m \u001b[0;30m \u001b[0;30m \u001b[0;30m \u001b[0;30m \u001b[0;30m \u001b[0;30m \u001b[0;30m \u001b[0;30m \u001b[0;30m \u001b[0;30m \u001b[0;30m \u001b[0;30m \u001b[0;30m \u001b[0;30m \u001b[0;30m \u001b[0;30m \u001b[0;30m \u001b[0;30m \u001b[0;30m \u001b[0;37m|\u001b[0;37m.\u001b[0;37m.\u001b[0;37m.\u001b[0;37m.\u001b[0;37m.\u001b[0;37m.\u001b[0;33m-\u001b[0;30m \u001b[0;30m \u001b[0;30m \u001b[0;30m \u001b[0;30m \u001b[0;30m \u001b[0;30m \u001b[0;30m \u001b[0;30m \u001b[0;30m \u001b[0;30m \u001b[0;30m \u001b[0;30m \u001b[0;30m \u001b[0;30m \u001b[0;30m \u001b[0;30m \u001b[0;30m \u001b[0;30m \u001b[0;30m \u001b[0;30m \u001b[0;30m \u001b[0;30m \u001b[0;30m \u001b[0;30m \u001b[0;30m \u001b[0;30m \u001b[0;30m \u001b[0;30m \u001b[0;30m \n",
      "\u001b[0;30m \u001b[0;30m \u001b[0;30m \u001b[0;30m \u001b[0;30m \u001b[0;30m \u001b[0;30m \u001b[0;30m \u001b[0;30m \u001b[0;30m \u001b[0;30m \u001b[0;30m \u001b[0;30m \u001b[0;30m \u001b[0;30m \u001b[0;30m \u001b[0;30m \u001b[0;30m \u001b[0;30m \u001b[0;30m \u001b[0;30m \u001b[0;30m \u001b[0;30m \u001b[0;30m \u001b[0;30m \u001b[0;30m \u001b[0;30m \u001b[0;30m \u001b[0;30m \u001b[0;30m \u001b[0;30m \u001b[0;30m \u001b[0;30m \u001b[0;30m \u001b[0;30m \u001b[0;30m \u001b[0;30m \u001b[0;30m \u001b[0;30m \u001b[0;30m \u001b[0;30m \u001b[0;30m \u001b[0;37m-\u001b[0;37m-\u001b[0;37m-\u001b[0;37m-\u001b[0;37m-\u001b[0;37m-\u001b[0;37m-\u001b[0;37m-\u001b[0;30m \u001b[0;30m \u001b[0;30m \u001b[0;30m \u001b[0;30m \u001b[0;30m \u001b[0;30m \u001b[0;30m \u001b[0;30m \u001b[0;30m \u001b[0;30m \u001b[0;30m \u001b[0;30m \u001b[0;30m \u001b[0;30m \u001b[0;30m \u001b[0;30m \u001b[0;30m \u001b[0;30m \u001b[0;30m \u001b[0;30m \u001b[0;30m \u001b[0;30m \u001b[0;30m \u001b[0;30m \u001b[0;30m \u001b[0;30m \u001b[0;30m \u001b[0;30m \u001b[0;30m \n",
      "\u001b[0;30m \u001b[0;30m \u001b[0;30m \u001b[0;30m \u001b[0;30m \u001b[0;30m \u001b[0;30m \u001b[0;30m \u001b[0;30m \u001b[0;30m \u001b[0;30m \u001b[0;30m \u001b[0;30m \u001b[0;30m \u001b[0;30m \u001b[0;30m \u001b[0;30m \u001b[0;30m \u001b[0;30m \u001b[0;30m \u001b[0;30m \u001b[0;30m \u001b[0;30m \u001b[0;30m \u001b[0;30m \u001b[0;30m \u001b[0;30m \u001b[0;30m \u001b[0;30m \u001b[0;30m \u001b[0;30m \u001b[0;30m \u001b[0;30m \u001b[0;30m \u001b[0;30m \u001b[0;30m \u001b[0;30m \u001b[0;30m \u001b[0;30m \u001b[0;30m \u001b[0;30m \u001b[0;30m \u001b[0;30m \u001b[0;30m \u001b[0;30m \u001b[0;30m \u001b[0;30m \u001b[0;30m \u001b[0;30m \u001b[0;30m \u001b[0;30m \u001b[0;30m \u001b[0;30m \u001b[0;30m \u001b[0;30m \u001b[0;30m \u001b[0;30m \u001b[0;30m \u001b[0;30m \u001b[0;30m \u001b[0;30m \u001b[0;30m \u001b[0;30m \u001b[0;30m \u001b[0;30m \u001b[0;30m \u001b[0;30m \u001b[0;30m \u001b[0;30m \u001b[0;30m \u001b[0;30m \u001b[0;30m \u001b[0;30m \u001b[0;30m \u001b[0;30m \u001b[0;30m \u001b[0;30m \u001b[0;30m \u001b[0;30m \u001b[0;30m \n",
      "\u001b[0;30m \u001b[0;30m \u001b[0;30m \u001b[0;30m \u001b[0;30m \u001b[0;30m \u001b[0;30m \u001b[0;30m \u001b[0;30m \u001b[0;30m \u001b[0;30m \u001b[0;30m \u001b[0;30m \u001b[0;30m \u001b[0;30m \u001b[0;30m \u001b[0;30m \u001b[0;30m \u001b[0;30m \u001b[0;30m \u001b[0;30m \u001b[0;30m \u001b[0;30m \u001b[0;30m \u001b[0;30m \u001b[0;30m \u001b[0;30m \u001b[0;30m \u001b[0;30m \u001b[0;30m \u001b[0;30m \u001b[0;30m \u001b[0;30m \u001b[0;30m \u001b[0;30m \u001b[0;30m \u001b[0;30m \u001b[0;30m \u001b[0;30m \u001b[0;30m \u001b[0;30m \u001b[0;30m \u001b[0;30m \u001b[0;30m \u001b[0;30m \u001b[0;30m \u001b[0;30m \u001b[0;30m \u001b[0;30m \u001b[0;30m \u001b[0;30m \u001b[0;30m \u001b[0;30m \u001b[0;30m \u001b[0;30m \u001b[0;30m \u001b[0;30m \u001b[0;30m \u001b[0;30m \u001b[0;30m \u001b[0;30m \u001b[0;30m \u001b[0;30m \u001b[0;30m \u001b[0;30m \u001b[0;30m \u001b[0;30m \u001b[0;30m \u001b[0;30m \u001b[0;30m \u001b[0;30m \u001b[0;30m \u001b[0;30m \u001b[0;30m \u001b[0;30m \u001b[0;30m \u001b[0;30m \u001b[0;30m \u001b[0;30m \u001b[0;30m \n",
      "\u001b[0;30m \u001b[0;30m \u001b[0;30m \u001b[0;30m \u001b[0;30m \u001b[0;30m \u001b[0;30m \u001b[0;30m \u001b[0;30m \u001b[0;30m \u001b[0;30m \u001b[0;30m \u001b[0;30m \u001b[0;30m \u001b[0;30m \u001b[0;30m \u001b[0;30m \u001b[0;30m \u001b[0;30m \u001b[0;30m \u001b[0;30m \u001b[0;30m \u001b[0;30m \u001b[0;30m \u001b[0;30m \u001b[0;30m \u001b[0;30m \u001b[0;30m \u001b[0;30m \u001b[0;30m \u001b[0;30m \u001b[0;30m \u001b[0;30m \u001b[0;30m \u001b[0;30m \u001b[0;30m \u001b[0;30m \u001b[0;30m \u001b[0;30m \u001b[0;30m \u001b[0;30m \u001b[0;30m \u001b[0;30m \u001b[0;30m \u001b[0;30m \u001b[0;30m \u001b[0;30m \u001b[0;30m \u001b[0;30m \u001b[0;30m \u001b[0;30m \u001b[0;30m \u001b[0;30m \u001b[0;30m \u001b[0;30m \u001b[0;30m \u001b[0;30m \u001b[0;30m \u001b[0;30m \u001b[0;30m \u001b[0;30m \u001b[0;30m \u001b[0;30m \u001b[0;30m \u001b[0;30m \u001b[0;30m \u001b[0;30m \u001b[0;30m \u001b[0;30m \u001b[0;30m \u001b[0;30m \u001b[0;30m \u001b[0;30m \u001b[0;30m \u001b[0;30m \u001b[0;30m \u001b[0;30m \u001b[0;30m \u001b[0;30m \u001b[0;30m \n",
      "\u001b[0;30m \u001b[0;30m \u001b[0;30m \u001b[0;30m \u001b[0;30m \u001b[0;30m \u001b[0;30m \u001b[0;30m \u001b[0;30m \u001b[0;30m \u001b[0;30m \u001b[0;30m \u001b[0;30m \u001b[0;30m \u001b[0;30m \u001b[0;30m \u001b[0;30m \u001b[0;30m \u001b[0;30m \u001b[0;30m \u001b[0;30m \u001b[0;30m \u001b[0;30m \u001b[0;30m \u001b[0;30m \u001b[0;30m \u001b[0;30m \u001b[0;30m \u001b[0;30m \u001b[0;30m \u001b[0;30m \u001b[0;30m \u001b[0;30m \u001b[0;30m \u001b[0;30m \u001b[0;30m \u001b[0;30m \u001b[0;30m \u001b[0;30m \u001b[0;30m \u001b[0;30m \u001b[0;30m \u001b[0;30m \u001b[0;30m \u001b[0;30m \u001b[0;30m \u001b[0;30m \u001b[0;30m \u001b[0;30m \u001b[0;30m \u001b[0;30m \u001b[0;30m \u001b[0;30m \u001b[0;30m \u001b[0;30m \u001b[0;30m \u001b[0;30m \u001b[0;30m \u001b[0;30m \u001b[0;30m \u001b[0;30m \u001b[0;30m \u001b[0;30m \u001b[0;30m \u001b[0;30m \u001b[0;30m \u001b[0;30m \u001b[0;30m \u001b[0;30m \u001b[0;30m \u001b[0;30m \u001b[0;30m \u001b[0;30m \u001b[0;30m \u001b[0;30m \u001b[0;30m \u001b[0;30m \u001b[0;30m \u001b[0;30m \u001b[0;30m \n",
      "\u001b[0;30m \u001b[0;30m \u001b[0;30m \u001b[0;30m \u001b[0;30m \u001b[0;30m \u001b[0;30m \u001b[0;30m \u001b[0;30m \u001b[0;30m \u001b[0;30m \u001b[0;30m \u001b[0;30m \u001b[0;30m \u001b[0;30m \u001b[0;30m \u001b[0;30m \u001b[0;30m \u001b[0;30m \u001b[0;30m \u001b[0;30m \u001b[0;30m \u001b[0;30m \u001b[0;30m \u001b[0;30m \u001b[0;30m \u001b[0;30m \u001b[0;30m \u001b[0;30m \u001b[0;30m \u001b[0;30m \u001b[0;30m \u001b[0;30m \u001b[0;30m \u001b[0;30m \u001b[0;30m \u001b[0;30m \u001b[0;30m \u001b[0;30m \u001b[0;30m \u001b[0;30m \u001b[0;30m \u001b[0;30m \u001b[0;30m \u001b[0;30m \u001b[0;30m \u001b[0;30m \u001b[0;30m \u001b[0;30m \u001b[0;30m \u001b[0;30m \u001b[0;30m \u001b[0;30m \u001b[0;30m \u001b[0;30m \u001b[0;30m \u001b[0;30m \u001b[0;30m \u001b[0;30m \u001b[0;30m \u001b[0;30m \u001b[0;30m \u001b[0;30m \u001b[0;30m \u001b[0;30m \u001b[0;30m \u001b[0;30m \u001b[0;30m \u001b[0;30m \u001b[0;30m \u001b[0;30m \u001b[0;30m \u001b[0;30m \u001b[0;30m \u001b[0;30m \u001b[0;30m \u001b[0;30m \u001b[0;30m \u001b[0;30m \u001b[0;30m \n",
      "\u001b[0;30m \u001b[0;30m \u001b[0;30m \u001b[0;30m \u001b[0;30m \u001b[0;30m \u001b[0;30m \u001b[0;30m \u001b[0;30m \u001b[0;30m \u001b[0;30m \u001b[0;30m \u001b[0;30m \u001b[0;30m \u001b[0;30m \u001b[0;30m \u001b[0;30m \u001b[0;30m \u001b[0;30m \u001b[0;30m \u001b[0;30m \u001b[0;30m \u001b[0;30m \u001b[0;30m \u001b[0;30m \u001b[0;30m \u001b[0;30m \u001b[0;30m \u001b[0;30m \u001b[0;30m \u001b[0;30m \u001b[0;30m \u001b[0;30m \u001b[0;30m \u001b[0;30m \u001b[0;30m \u001b[0;30m \u001b[0;30m \u001b[0;30m \u001b[0;30m \u001b[0;30m \u001b[0;30m \u001b[0;30m \u001b[0;30m \u001b[0;30m \u001b[0;30m \u001b[0;30m \u001b[0;30m \u001b[0;30m \u001b[0;30m \u001b[0;30m \u001b[0;30m \u001b[0;30m \u001b[0;30m \u001b[0;30m \u001b[0;30m \u001b[0;30m \u001b[0;30m \u001b[0;30m \u001b[0;30m \u001b[0;30m \u001b[0;30m \u001b[0;30m \u001b[0;30m \u001b[0;30m \u001b[0;30m \u001b[0;30m \u001b[0;30m \u001b[0;30m \u001b[0;30m \u001b[0;30m \u001b[0;30m \u001b[0;30m \u001b[0;30m \u001b[0;30m \u001b[0;30m \u001b[0;30m \u001b[0;30m \u001b[0;30m \u001b[0;30m \n",
      "\u001b[0;30m \u001b[0;30m \u001b[0;30m \u001b[0;30m \u001b[0;30m \u001b[0;30m \u001b[0;30m \u001b[0;30m \u001b[0;30m \u001b[0;30m \u001b[0;30m \u001b[0;30m \u001b[0;30m \u001b[0;30m \u001b[0;30m \u001b[0;30m \u001b[0;30m \u001b[0;30m \u001b[0;30m \u001b[0;30m \u001b[0;30m \u001b[0;30m \u001b[0;30m \u001b[0;30m \u001b[0;30m \u001b[0;30m \u001b[0;30m \u001b[0;30m \u001b[0;30m \u001b[0;30m \u001b[0;30m \u001b[0;30m \u001b[0;30m \u001b[0;30m \u001b[0;30m \u001b[0;30m \u001b[0;30m \u001b[0;30m \u001b[0;30m \u001b[0;30m \u001b[0;30m \u001b[0;30m \u001b[0;30m \u001b[0;30m \u001b[0;30m \u001b[0;30m \u001b[0;30m \u001b[0;30m \u001b[0;30m \u001b[0;30m \u001b[0;30m \u001b[0;30m \u001b[0;30m \u001b[0;30m \u001b[0;30m \u001b[0;30m \u001b[0;30m \u001b[0;30m \u001b[0;30m \u001b[0;30m \u001b[0;30m \u001b[0;30m \u001b[0;30m \u001b[0;30m \u001b[0;30m \u001b[0;30m \u001b[0;30m \u001b[0;30m \u001b[0;30m \u001b[0;30m \u001b[0;30m \u001b[0;30m \u001b[0;30m \u001b[0;30m \u001b[0;30m \u001b[0;30m \u001b[0;30m \u001b[0;30m \u001b[0;30m \u001b[0;30m \n",
      "\u001b[0;30m \u001b[0;30m \u001b[0;30m \u001b[0;30m \u001b[0;30m \u001b[0;30m \u001b[0;30m \u001b[0;30m \u001b[0;30m \u001b[0;30m \u001b[0;30m \u001b[0;30m \u001b[0;30m \u001b[0;30m \u001b[0;30m \u001b[0;30m \u001b[0;30m \u001b[0;30m \u001b[0;30m \u001b[0;30m \u001b[0;30m \u001b[0;30m \u001b[0;30m \u001b[0;30m \u001b[0;30m \u001b[0;30m \u001b[0;30m \u001b[0;30m \u001b[0;30m \u001b[0;30m \u001b[0;30m \u001b[0;30m \u001b[0;30m \u001b[0;30m \u001b[0;30m \u001b[0;30m \u001b[0;30m \u001b[0;30m \u001b[0;30m \u001b[0;30m \u001b[0;30m \u001b[0;30m \u001b[0;30m \u001b[0;30m \u001b[0;30m \u001b[0;30m \u001b[0;30m \u001b[0;30m \u001b[0;30m \u001b[0;30m \u001b[0;30m \u001b[0;30m \u001b[0;30m \u001b[0;30m \u001b[0;30m \u001b[0;30m \u001b[0;30m \u001b[0;30m \u001b[0;30m \u001b[0;30m \u001b[0;30m \u001b[0;30m \u001b[0;30m \u001b[0;30m \u001b[0;30m \u001b[0;30m \u001b[0;30m \u001b[0;30m \u001b[0;30m \u001b[0;30m \u001b[0;30m \u001b[0;30m \u001b[0;30m \u001b[0;30m \u001b[0;30m \u001b[0;30m \u001b[0;30m \u001b[0;30m \u001b[0;30m \u001b[0;30m \n",
      "\u001b[0;30m \u001b[0;30m \u001b[0;30m \u001b[0;30m \u001b[0;30m \u001b[0;30m \u001b[0;30m \u001b[0;30m \u001b[0;30m \u001b[0;30m \u001b[0;30m \u001b[0;30m \u001b[0;30m \u001b[0;30m \u001b[0;30m \u001b[0;30m \u001b[0;30m \u001b[0;30m \u001b[0;30m \u001b[0;30m \u001b[0;30m \u001b[0;30m \u001b[0;30m \u001b[0;30m \u001b[0;30m \u001b[0;30m \u001b[0;30m \u001b[0;30m \u001b[0;30m \u001b[0;30m \u001b[0;30m \u001b[0;30m \u001b[0;30m \u001b[0;30m \u001b[0;30m \u001b[0;30m \u001b[0;30m \u001b[0;30m \u001b[0;30m \u001b[0;30m \u001b[0;30m \u001b[0;30m \u001b[0;30m \u001b[0;30m \u001b[0;30m \u001b[0;30m \u001b[0;30m \u001b[0;30m \u001b[0;30m \u001b[0;30m \u001b[0;30m \u001b[0;30m \u001b[0;30m \u001b[0;30m \u001b[0;30m \u001b[0;30m \u001b[0;30m \u001b[0;30m \u001b[0;30m \u001b[0;30m \u001b[0;30m \u001b[0;30m \u001b[0;30m \u001b[0;30m \u001b[0;30m \u001b[0;30m \u001b[0;30m \u001b[0;30m \u001b[0;30m \u001b[0;30m \u001b[0;30m \u001b[0;30m \u001b[0;30m \u001b[0;30m \u001b[0;30m \u001b[0;30m \u001b[0;30m \u001b[0;30m \u001b[0;30m \u001b[0;30m \n",
      "\u001b[0;37mA\u001b[0;37mg\u001b[0;37me\u001b[0;37mn\u001b[0;37mt\u001b[0;30m \u001b[0;37mt\u001b[0;37mh\u001b[0;37me\u001b[0;30m \u001b[0;37mT\u001b[0;37mr\u001b[0;37mo\u001b[0;37mg\u001b[0;37ml\u001b[0;37mo\u001b[0;37md\u001b[0;37my\u001b[0;37mt\u001b[0;37me\u001b[0;30m \u001b[0;30m \u001b[0;30m \u001b[0;30m \u001b[0;30m \u001b[0;30m \u001b[0;30m \u001b[0;30m \u001b[0;30m \u001b[0;30m \u001b[0;30m \u001b[0;37mS\u001b[0;37mt\u001b[0;37m:\u001b[0;37m1\u001b[0;37m8\u001b[0;30m \u001b[0;37mD\u001b[0;37mx\u001b[0;37m:\u001b[0;37m1\u001b[0;37m4\u001b[0;30m \u001b[0;37mC\u001b[0;37mo\u001b[0;37m:\u001b[0;37m1\u001b[0;37m6\u001b[0;30m \u001b[0;37mI\u001b[0;37mn\u001b[0;37m:\u001b[0;37m9\u001b[0;30m \u001b[0;37mW\u001b[0;37mi\u001b[0;37m:\u001b[0;37m9\u001b[0;30m \u001b[0;37mC\u001b[0;37mh\u001b[0;37m:\u001b[0;37m9\u001b[0;30m \u001b[0;37mL\u001b[0;37ma\u001b[0;37mw\u001b[0;37mf\u001b[0;37mu\u001b[0;37ml\u001b[0;30m \u001b[0;37mS\u001b[0;37m:\u001b[0;37m0\u001b[0;30m \u001b[0;30m \u001b[0;30m \u001b[0;30m \u001b[0;30m \u001b[0;30m \n",
      "\u001b[0;37mD\u001b[0;37ml\u001b[0;37mv\u001b[0;37ml\u001b[0;37m:\u001b[0;37m1\u001b[0;30m \u001b[0;37m$\u001b[0;37m:\u001b[0;37m0\u001b[0;30m \u001b[0;37mH\u001b[0;37mP\u001b[0;37m:\u001b[0;37m1\u001b[0;37m8\u001b[0;37m(\u001b[0;37m1\u001b[0;37m8\u001b[0;37m)\u001b[0;30m \u001b[0;37mP\u001b[0;37mw\u001b[0;37m:\u001b[0;37m1\u001b[0;37m(\u001b[0;37m1\u001b[0;37m)\u001b[0;30m \u001b[0;37mA\u001b[0;37mC\u001b[0;37m:\u001b[0;37m8\u001b[0;30m \u001b[0;37mX\u001b[0;37mp\u001b[0;37m:\u001b[0;37m1\u001b[0;37m/\u001b[0;37m0\u001b[0;30m \u001b[0;30m \u001b[0;30m \u001b[0;30m \u001b[0;30m \u001b[0;30m \u001b[0;30m \u001b[0;30m \u001b[0;30m \u001b[0;30m \u001b[0;30m \u001b[0;30m \u001b[0;30m \u001b[0;30m \u001b[0;30m \u001b[0;30m \u001b[0;30m \u001b[0;30m \u001b[0;30m \u001b[0;30m \u001b[0;30m \u001b[0;30m \u001b[0;30m \u001b[0;30m \u001b[0;30m \u001b[0;30m \u001b[0;30m \u001b[0;30m \u001b[0;30m \u001b[0;30m \u001b[0;30m \u001b[0;30m \u001b[0;30m \u001b[0;30m \u001b[0;30m \u001b[0;30m \u001b[0;30m \u001b[0;30m \u001b[0;30m \u001b[0;30m \u001b[0m\n",
      "\n",
      "abcde\n",
      "time: 0001\n",
      "b'Hello Agent, welcome to NetHack!  You are a lawful dwarven Cavewoman.'\n",
      "[[2359 2359 2359 2359 2359]\n",
      " [2361 2361 2361 2361 2363]\n",
      " [2378  397  330 2378 2371]\n",
      " [2378 2378 2378 2378 2360]\n",
      " [2316 2378 2378 2378 2360]]\n"
     ]
    },
    {
     "name": "stdout",
     "output_type": "stream",
     "text": [
      "> ?\n"
     ]
    }
   ],
   "source": [
    "bot = Skeleton(brain=HumanActor())\n",
    "\n",
    "obs, rew, fin, info = env.reset(), 0., False, None\n",
    "bot.reset(obs)\n",
    "\n",
    "# base.py#L382 maps gym action numbers to chars\n",
    "ctoa = {a: j for j, a in enumerate(env.unwrapped._actions)}\n",
    "while render(env, obs) and not fin:\n",
    "    try:\n",
    "        obs, rew, fin, info = env.step(ctoa[bot.step(obs)])\n",
    "    except KeyError:\n",
    "        break"
   ]
  },
  {
   "cell_type": "code",
   "execution_count": 13,
   "id": "f79b9ed1",
   "metadata": {},
   "outputs": [
    {
     "ename": "AssertionError",
     "evalue": "",
     "output_type": "error",
     "traceback": [
      "\u001b[0;31m---------------------------------------------------------------------------\u001b[0m",
      "\u001b[0;31mAssertionError\u001b[0m                            Traceback (most recent call last)",
      "\u001b[0;32m<ipython-input-13-a871fdc9ebee>\u001b[0m in \u001b[0;36m<module>\u001b[0;34m\u001b[0m\n\u001b[0;32m----> 1\u001b[0;31m \u001b[0;32massert\u001b[0m \u001b[0;32mFalse\u001b[0m\u001b[0;34m\u001b[0m\u001b[0;34m\u001b[0m\u001b[0m\n\u001b[0m",
      "\u001b[0;31mAssertionError\u001b[0m: "
     ]
    }
   ],
   "source": [
    "assert False"
   ]
  },
  {
   "cell_type": "markdown",
   "id": "123cf944",
   "metadata": {},
   "source": [
    "<br>"
   ]
  },
  {
   "cell_type": "markdown",
   "id": "f7e9d571",
   "metadata": {},
   "source": [
    "### A dangeorus freezing combination\n",
    "\n",
    "```python\n",
    "# well, this is awkward...\n",
    "env.reset()\n",
    "env.step(42)\n",
    "env.step(51)\n",
    "```"
   ]
  },
  {
   "cell_type": "markdown",
   "id": "4f111038",
   "metadata": {},
   "source": [
    "<br>"
   ]
  },
  {
   "cell_type": "markdown",
   "id": "3ab8d7eb",
   "metadata": {},
   "source": [
    "# Trunk"
   ]
  },
  {
   "cell_type": "raw",
   "id": "af3322cf",
   "metadata": {},
   "source": [
    "from collections import deque\n",
    "from nle.env.base import NLE\n",
    "from nle.nethack.actions import ACTIONS\n",
    "\n",
    "\n",
    "class Spine:\n",
    "    def __init__(self, env):\n",
    "        # create kbd to int mappings\n",
    "        assert isinstance(env, NLE)\n",
    "\n",
    "        # base.py#L382 maps gym action numbers to chars\n",
    "        self.ctoa = {a: j for j, a in enumerate(env._actions)}\n",
    "    \n",
    "        # reset the state\n",
    "        self.reset()\n",
    "\n",
    "    def reset(self):\n",
    "        self.state = 0\n",
    "        self.queue.clear()\n",
    "\n",
    "    def check(self, obs):\n",
    "        return True\n",
    "\n",
    "    def react(self, obs):\n",
    "        # open loop policy: execute scheduled actions\n",
    "        if self.queue and self.check(obs):\n",
    "            return self.queue.popleft()\n",
    "\n",
    "        obs = uint8_to_str(False, **obs)\n",
    "#         for fn in auto_gobble_more, auto_no_escape,:\n",
    "#             action = fn(obs)\n",
    "#             if action >= 0:\n",
    "#                 return action\n",
    "\n",
    "        return -1\n",
    "\n",
    "class Human(Spine):\n",
    "    def react(self, obs):\n",
    "        action = super().react(obs)\n",
    "        if action < 0:\n",
    "            tmp = __builtins__.input('> ')\n",
    "            if len(tmp) > 1:\n",
    "                if tmp[0] == '#':\n",
    "                    self.queue.extend(tmp)\n",
    "\n",
    "                else:\n",
    "                    action = int(tmp, 10)\n",
    "            else:\n",
    "                action = ord(tmp)\n",
    "\n",
    "        return self.ctoa[action]"
   ]
  },
  {
   "cell_type": "raw",
   "id": "319174a9",
   "metadata": {},
   "source": [
    "from collections import deque\n",
    "from nle.env.base import NLE\n",
    "from nle.nethack.actions import ACTIONS\n",
    "\n",
    "\n",
    "class Spine:\n",
    "    def __init__(self):\n",
    "        self.actions, self.priority = {}, ['gui',]\n",
    "        self.queue, self.state = deque(), 0\n",
    "\n",
    "    def reset(self, obs):\n",
    "        self.state = 0\n",
    "        self.queue.clear()\n",
    "\n",
    "    def register(self, *actions, kind='gui'):\n",
    "        for action in actions:\n",
    "            assert isinstance(action, BaseAction)\n",
    "            self.actions.setdefault(kind, []).append(action)\n",
    "        \n",
    "        return self\n",
    "\n",
    "    def react(self, obs):\n",
    "        obs = uint8_to_str(False, **obs)\n",
    "        \n",
    "        # 1. execute automatic actions related to gui\n",
    "        for kind in self.priority:\n",
    "            for action in self.actions.get(kind, []):\n",
    "                act = action.react(obs)\n",
    "                if act is not None:\n",
    "                    return act\n",
    "\n",
    "        if self.queue:\n",
    "            return self.queue.popleft()\n",
    "\n",
    "class Human(Spine):\n",
    "    def abort(self, obs):\n",
    "        return False\n",
    "\n",
    "    def react(self, obs):\n",
    "        action = super().react(obs)\n",
    "        if action is not None:\n",
    "            return action\n",
    "\n",
    "        # Check if we're following an open loop policy\n",
    "        if not self.queue or self.abort(obs):\n",
    "            # human control\n",
    "            tmp = bytes(__builtins__.input('> '), 'utf8').decode('unicode-escape')\n",
    "            self.queue.extend(map(ord, tmp))\n",
    "\n",
    "        # execute pre-scheduled actions (open loop policy)\n",
    "        return self.queue.popleft()\n"
   ]
  },
  {
   "cell_type": "raw",
   "id": "e7438655",
   "metadata": {},
   "source": [
    "from nle.nethack.actions import Command, MiscAction\n",
    "\n",
    "class BaseAction:\n",
    "    def can(self, obs):\n",
    "        return True\n",
    "\n",
    "    def do(self, obs):\n",
    "        raise NotImplementedError\n",
    "\n",
    "    def react(self, obs):\n",
    "        if self.can(obs):\n",
    "            yield from self.do(obs)\n",
    "\n",
    "class BaseENTERAction(BaseAction):\n",
    "    def do(self, obs):\n",
    "        yield MiscAction.MORE\n",
    "\n",
    "class BaseESCAction(BaseAction):\n",
    "    def do(self, obs):\n",
    "        yield Command.ESC\n",
    "\n",
    "class GUI_handle_escape(BaseESCAction):\n",
    "    def can(self, obs):\n",
    "        return b'there will be no return!' in bytes(obs['tty_chars'])"
   ]
  }
 ],
 "metadata": {
  "kernelspec": {
   "display_name": "Python 3",
   "language": "python",
   "name": "python3"
  },
  "language_info": {
   "codemirror_mode": {
    "name": "ipython",
    "version": 3
   },
   "file_extension": ".py",
   "mimetype": "text/x-python",
   "name": "python",
   "nbconvert_exporter": "python",
   "pygments_lexer": "ipython3",
   "version": "3.9.5"
  }
 },
 "nbformat": 4,
 "nbformat_minor": 5
}
